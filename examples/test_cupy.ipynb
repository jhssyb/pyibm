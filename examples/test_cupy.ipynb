{
 "cells": [
  {
   "cell_type": "code",
   "execution_count": null,
   "metadata": {},
   "outputs": [],
   "source": [
    "import cupy\n",
    "import math\n",
    "from numba import cuda\n",
    "import numba\n",
    "import numpy\n",
    "\n",
    "import pyibm"
   ]
  },
  {
   "cell_type": "code",
   "execution_count": null,
   "metadata": {},
   "outputs": [],
   "source": [
    "pyibm.__version__"
   ]
  },
  {
   "cell_type": "code",
   "execution_count": null,
   "metadata": {},
   "outputs": [],
   "source": [
    "config = dict(x=dict(start=-2.0, end=2.0, num_cells=20),\n",
    "              y=dict(start=-2.0, end=2.0, num_cells=20))\n",
    "grid = pyibm.GridBase(config=config)\n",
    "grid"
   ]
  },
  {
   "cell_type": "code",
   "execution_count": null,
   "metadata": {},
   "outputs": [],
   "source": [
    "gridc = pyibm.GridCellCentered(grid=grid)\n",
    "gridx = pyibm.GridFaceX(grid=grid)\n",
    "gridy = pyibm.GridFaceY(grid=grid)"
   ]
  },
  {
   "cell_type": "code",
   "execution_count": null,
   "metadata": {},
   "outputs": [],
   "source": [
    "class EulerianField(object):\n",
    "    \"\"\"Eulerian field variable.\"\"\"\n",
    "\n",
    "    def __init__(self, grid=pyibm.GridBase(), ic=0.0, bc=None):\n",
    "        \"\"\"Initialize the field.\"\"\"\n",
    "        self.grid = grid\n",
    "        self.size = grid.size\n",
    "        self.shape = grid.shape\n",
    "        if grid.size > 0:\n",
    "            self.bc = bc\n",
    "            shape = tuple(s + 2 for s in grid.shape)\n",
    "            self.values = ic * numpy.ones(shape)"
   ]
  },
  {
   "cell_type": "code",
   "execution_count": null,
   "metadata": {},
   "outputs": [],
   "source": [
    "ux = EulerianField(grid=gridx, ic=1.0)\n",
    "uy = EulerianField(grid=gridy, ic=0.0)"
   ]
  },
  {
   "cell_type": "code",
   "execution_count": null,
   "metadata": {},
   "outputs": [],
   "source": [
    "threads = (16, 16)\n",
    "blocks = tuple(math.ceil(s / b) for s, b in zip(ux.shape, threads))"
   ]
  },
  {
   "cell_type": "code",
   "execution_count": null,
   "metadata": {},
   "outputs": [],
   "source": [
    "@cuda.jit\n",
    "def _convective2d_x(ux, uy, dx, dy, out):\n",
    "    i, j = cuda.grid(2)\n",
    "    n, m = ux.shape\n",
    "    if 1 <= i < m - 1 and 1 <= j < m - 1:\n",
    "        hxx = (((ux[j, i + 1] + ux[j, i]) / 2)**2 -\n",
    "               ((ux[j, i] + ux[j, i - 1]) / 2)**2) / dx[i]\n",
    "        hxy = ((ux[j, i] + ux[j + 1, i]) / 2 *\n",
    "               (uy[j, i] + uy[j , i + 1]) / 2 -\n",
    "               (ux[j - 1, i] + ux[j, i]) / 2 *\n",
    "               (uy[j - 1, i] + uy[j - 1, i + 1]) / 2) / dy[j]\n",
    "        out[j, i] = hxx + hxy"
   ]
  },
  {
   "cell_type": "code",
   "execution_count": null,
   "metadata": {},
   "outputs": [],
   "source": [
    "def convective_x(ux, uy):\n",
    "    out = cupy.empty(ux.values.shape)\n",
    "    dx = ux.grid.x.get_widths()\n",
    "    dy = ux.grid.y.get_widths()\n",
    "    _convective2d_x[blocks, threads](ux.values, uy.values,\n",
    "                                     dx, dy, out)\n",
    "    return cupy.asnumpy(out)"
   ]
  },
  {
   "cell_type": "code",
   "execution_count": null,
   "metadata": {},
   "outputs": [],
   "source": [
    "@cuda.jit\n",
    "def _convective2d_y(ux, uy, dx, dy, out):\n",
    "    i, j = cuda.grid(2)\n",
    "    n, m = uy.shape\n",
    "    if 1 <= i < m - 1 and 1 <= j < m - 1:\n",
    "        hyx = ((ux[j, i] + ux[j + 1, i]) / 2 *\n",
    "               (uy[j, i] + uy[j, i + 1]) / 2 -\n",
    "               (ux[j, i - 1] + ux[j + 1, i - 1]) / 2 *\n",
    "               (uy[j, i - 1] + uy[j, i]) / 2) / dx[i]\n",
    "        hyy = (((uy[j, i] + uy[j + 1, i]) / 2)**2 -\n",
    "               ((uy[j - 1, i] + uy[j, i]) / 2)**2) / dy[j]\n",
    "        out[j, i] = hyx + hyy"
   ]
  },
  {
   "cell_type": "code",
   "execution_count": null,
   "metadata": {},
   "outputs": [],
   "source": [
    "def convective_y(ux, uy):\n",
    "    out = cupy.empty(uy.values.shape)\n",
    "    dx = uy.grid.x.get_widths()\n",
    "    dy = uy.grid.y.get_widths()\n",
    "    _convective2d_y[blocks, threads](ux.values, uy.values,\n",
    "                                     dx, dy, out)\n",
    "    return cupy.asnumpy(out)"
   ]
  },
  {
   "cell_type": "code",
   "execution_count": null,
   "metadata": {},
   "outputs": [],
   "source": [
    "Hx = convective_x(ux, uy)\n",
    "Hx.shape"
   ]
  },
  {
   "cell_type": "code",
   "execution_count": null,
   "metadata": {},
   "outputs": [],
   "source": [
    "Hy = convective_y(ux, uy)\n",
    "Hy.shape"
   ]
  },
  {
   "cell_type": "code",
   "execution_count": null,
   "metadata": {},
   "outputs": [],
   "source": []
  }
 ],
 "metadata": {
  "kernelspec": {
   "display_name": "Python 3 (PyIBM)",
   "language": "python",
   "name": "py36-pyibm"
  },
  "language_info": {
   "codemirror_mode": {
    "name": "ipython",
    "version": 3
   },
   "file_extension": ".py",
   "mimetype": "text/x-python",
   "name": "python",
   "nbconvert_exporter": "python",
   "pygments_lexer": "ipython3",
   "version": "3.6.10"
  }
 },
 "nbformat": 4,
 "nbformat_minor": 2
}
