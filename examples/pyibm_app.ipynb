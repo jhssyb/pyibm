{
 "cells": [
  {
   "cell_type": "code",
   "execution_count": null,
   "metadata": {},
   "outputs": [],
   "source": [
    "from matplotlib import pyplot\n",
    "from scipy.sparse import coo_matrix\n",
    "\n",
    "import pyibm\n",
    "\n",
    "%matplotlib inline"
   ]
  },
  {
   "cell_type": "code",
   "execution_count": null,
   "metadata": {},
   "outputs": [],
   "source": [
    "pyibm.__version__"
   ]
  },
  {
   "cell_type": "code",
   "execution_count": null,
   "metadata": {},
   "outputs": [],
   "source": [
    "def print_matrix_info(Op):\n",
    "    print('Type: ', type(Op))\n",
    "    print('Shape: ', Op.shape)\n",
    "    print('Size: ', Op.data.size)\n",
    "    print('Min/Max: ', Op.data.min(), Op.data.max())"
   ]
  },
  {
   "cell_type": "code",
   "execution_count": null,
   "metadata": {},
   "outputs": [],
   "source": [
    "def plot_matrix(M, figsize=(6.0, 6.0), markersize=1):\n",
    "    \"\"\"Plot non-zero structure of an operator.\"\"\"\n",
    "    if not isinstance(M, coo_matrix):\n",
    "        M = coo_matrix(M)\n",
    "    pyplot.rc('font', family='serif', size=16)\n",
    "    fig, ax = pyplot.subplots(figsize=figsize)\n",
    "    ax.scatter(M.col, M.row, c='red', s=markersize, marker='s')\n",
    "    ax.axis('scaled', adjustable='box')\n",
    "    ax.set_xlim(0, M.shape[1] - 1)\n",
    "    ax.set_ylim(0, M.shape[0] - 1)\n",
    "    ax.invert_yaxis()\n",
    "    ax.set_xticks([])\n",
    "    ax.set_yticks([])\n",
    "    return fig, ax"
   ]
  },
  {
   "cell_type": "code",
   "execution_count": null,
   "metadata": {},
   "outputs": [],
   "source": [
    "grid = pyibm.GridBase()\n",
    "grid"
   ]
  },
  {
   "cell_type": "code",
   "execution_count": null,
   "metadata": {},
   "outputs": [],
   "source": [
    "config = dict(x=dict(start=0.0, end=1.0, num_cells=10),\n",
    "              y=dict(start=2.0, end=3.0, num_cells=20))\n",
    "grid = pyibm.GridBase(config=config)\n",
    "grid"
   ]
  },
  {
   "cell_type": "code",
   "execution_count": null,
   "metadata": {},
   "outputs": [],
   "source": [
    "config = dict(x=dict(start=0.0, end=1.0, num_cells=5),\n",
    "              y=dict(start=2.0, end=3.0, num_cells=10),\n",
    "              z=dict(start=4.0, end=5.0, num_cells=20))\n",
    "grid = pyibm.GridBase(config=config)\n",
    "grid"
   ]
  },
  {
   "cell_type": "code",
   "execution_count": null,
   "metadata": {},
   "outputs": [],
   "source": [
    "gridc = pyibm.GridCellCentered(grid=grid)\n",
    "gridc"
   ]
  },
  {
   "cell_type": "code",
   "execution_count": null,
   "metadata": {},
   "outputs": [],
   "source": [
    "gridx = pyibm.GridFaceX(grid=grid)\n",
    "gridx"
   ]
  },
  {
   "cell_type": "code",
   "execution_count": null,
   "metadata": {},
   "outputs": [],
   "source": [
    "gridy = pyibm.GridFaceY(grid=grid)\n",
    "gridy"
   ]
  },
  {
   "cell_type": "code",
   "execution_count": null,
   "metadata": {},
   "outputs": [],
   "source": [
    "gridz = pyibm.GridFaceZ(grid=grid)\n",
    "gridz"
   ]
  },
  {
   "cell_type": "code",
   "execution_count": null,
   "metadata": {},
   "outputs": [],
   "source": [
    "ijk = (2, 3, 4)\n",
    "for g in [grid, gridc, gridx, gridy, gridz]:\n",
    "    for _ in range(10):\n",
    "        ijk2 = g.ijk(g.idx(*ijk))\n",
    "    assert ijk == ijk2"
   ]
  },
  {
   "cell_type": "code",
   "execution_count": null,
   "metadata": {},
   "outputs": [],
   "source": [
    "GHat = pyibm.assemble_GHat(gridc, gridx, gridy, gridz) \n",
    "print_matrix_info(GHat)\n",
    "plot_matrix(GHat);"
   ]
  },
  {
   "cell_type": "code",
   "execution_count": null,
   "metadata": {},
   "outputs": [],
   "source": [
    "MHat = pyibm.assemble_MHat(gridx, gridy, gridz)\n",
    "print_matrix_info(MHat)\n",
    "plot_matrix(MHat, figsize=(3.0, 3.0));"
   ]
  },
  {
   "cell_type": "code",
   "execution_count": null,
   "metadata": {},
   "outputs": [],
   "source": [
    "G = MHat @ GHat\n",
    "print_matrix_info(G)\n",
    "plot_matrix(G);"
   ]
  },
  {
   "cell_type": "code",
   "execution_count": null,
   "metadata": {},
   "outputs": [],
   "source": [
    "DHat = pyibm.assemble_DHat(gridc, gridx, gridy, gridz)\n",
    "print_matrix_info(DHat)\n",
    "plot_matrix(DHat);"
   ]
  },
  {
   "cell_type": "code",
   "execution_count": null,
   "metadata": {},
   "outputs": [],
   "source": [
    "R = pyibm.assemble_R(gridx, gridy, gridz)\n",
    "print_matrix_info(R)\n",
    "plot_matrix(R, figsize=(3.0, 3.0));"
   ]
  },
  {
   "cell_type": "code",
   "execution_count": null,
   "metadata": {},
   "outputs": [],
   "source": [
    "RInv = pyibm.assemble_RInv(R)\n",
    "print_matrix_info(RInv)\n",
    "plot_matrix(RInv, figsize=(3.0, 3.0));"
   ]
  },
  {
   "cell_type": "code",
   "execution_count": null,
   "metadata": {},
   "outputs": [],
   "source": [
    "D = DHat @ RInv\n",
    "print_matrix_info(D)\n",
    "plot_matrix(D);"
   ]
  },
  {
   "cell_type": "code",
   "execution_count": null,
   "metadata": {},
   "outputs": [],
   "source": [
    "# Check if divergence of the opposite of the transpose of the gradient.\n",
    "Op = D + G.T\n",
    "Op = Op.multiply(Op > 1e-12)\n",
    "assert Op.nnz == 0"
   ]
  },
  {
   "cell_type": "code",
   "execution_count": null,
   "metadata": {},
   "outputs": [],
   "source": []
  }
 ],
 "metadata": {
  "kernelspec": {
   "display_name": "Python 3 (PyIBM)",
   "language": "python",
   "name": "py36-pyibm"
  },
  "language_info": {
   "codemirror_mode": {
    "name": "ipython",
    "version": 3
   },
   "file_extension": ".py",
   "mimetype": "text/x-python",
   "name": "python",
   "nbconvert_exporter": "python",
   "pygments_lexer": "ipython3",
   "version": "3.6.8"
  }
 },
 "nbformat": 4,
 "nbformat_minor": 2
}
