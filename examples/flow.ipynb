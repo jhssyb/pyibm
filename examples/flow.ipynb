{
 "cells": [
  {
   "cell_type": "code",
   "execution_count": null,
   "metadata": {},
   "outputs": [],
   "source": [
    "from matplotlib import pyplot\n",
    "import numpy\n",
    "from scipy.sparse import coo_matrix\n",
    "\n",
    "import pyibm\n",
    "\n",
    "%matplotlib inline"
   ]
  },
  {
   "cell_type": "code",
   "execution_count": null,
   "metadata": {},
   "outputs": [],
   "source": [
    "pyibm.__version__"
   ]
  },
  {
   "cell_type": "code",
   "execution_count": null,
   "metadata": {},
   "outputs": [],
   "source": [
    "config = dict(x=dict(start=-2.0, end=2.0, num_cells=20),\n",
    "              y=dict(start=-2.0, end=2.0, num_cells=20))\n",
    "grid = pyibm.GridBase(config=config)\n",
    "grid"
   ]
  },
  {
   "cell_type": "code",
   "execution_count": null,
   "metadata": {},
   "outputs": [],
   "source": [
    "gridc = pyibm.GridCellCentered(grid=grid)\n",
    "gridx = pyibm.GridFaceX(grid=grid)\n",
    "gridy = pyibm.GridFaceY(grid=grid)"
   ]
  },
  {
   "cell_type": "code",
   "execution_count": null,
   "metadata": {},
   "outputs": [],
   "source": [
    "GHat = pyibm.assemble_GHat(gridc, gridx, gridy)\n",
    "MHat = pyibm.assemble_MHat(gridx, gridy)\n",
    "G = MHat @ GHat\n",
    "\n",
    "DHat = pyibm.assemble_DHat(gridc, gridx, gridy)\n",
    "R = pyibm.assemble_R(gridx, gridy)\n",
    "RInv = pyibm.assemble_RInv(R)\n",
    "D = DHat @ RInv"
   ]
  },
  {
   "cell_type": "code",
   "execution_count": null,
   "metadata": {},
   "outputs": [],
   "source": [
    "Re = 100.0\n",
    "LHat = 1 / Re * pyibm.assemble_LHat(gridx, gridy)\n",
    "L = MHat @ LHat @ RInv"
   ]
  },
  {
   "cell_type": "code",
   "execution_count": null,
   "metadata": {},
   "outputs": [],
   "source": [
    "dt = 0.01\n",
    "alpha_implicit = 0.5\n",
    "M = MHat @ RInv\n",
    "A = 1 / dt * M - alpha_implicit * L"
   ]
  },
  {
   "cell_type": "code",
   "execution_count": null,
   "metadata": {},
   "outputs": [],
   "source": [
    "MHatInv = pyibm.assemble_MHatInv(MHat)\n",
    "MInv = R @ MHatInv\n",
    "BN = pyibm.assemble_BN(gridx, gridy, dt=dt, N=3, L=L, MInv=MInv)"
   ]
  },
  {
   "cell_type": "code",
   "execution_count": null,
   "metadata": {},
   "outputs": [],
   "source": [
    "DBNG = D @ BN @ G"
   ]
  },
  {
   "cell_type": "code",
   "execution_count": null,
   "metadata": {},
   "outputs": [],
   "source": [
    "def circle(radius=0.5, center=(0.0, 0.0), ds=0.1, phi=0.0):\n",
    "    \"\"\"Compute uniformly distributed coordinates on circle.\"\"\"\n",
    "    xc, yc = center\n",
    "    N = math.ceil(2 * math.pi * radius / ds)\n",
    "    theta = numpy.linspace(0.0, 2 * math.pi, num=N + 1)[:-1] + phi\n",
    "    x = xc + radius * numpy.cos(theta)\n",
    "    y = yc + radius * numpy.sin(theta)\n",
    "    return x, y\n",
    "\n",
    "\n",
    "ds = gridx.x.widths[0]\n",
    "body = pyibm.Body(*circle(ds=ds), grid=gridc)\n",
    "body"
   ]
  },
  {
   "cell_type": "code",
   "execution_count": null,
   "metadata": {},
   "outputs": [],
   "source": [
    "Op = pyibm.assemble_delta(body, gridc, gridx, gridy,\n",
    "                          kernel=pyibm.delta_roma_et_al_1999,\n",
    "                          kernel_size=2)"
   ]
  },
  {
   "cell_type": "code",
   "execution_count": null,
   "metadata": {},
   "outputs": [],
   "source": [
    "E = Op @ R @ MHat\n",
    "\n",
    "S = pyibm.assemble_surfaces(body)\n",
    "H = Op.T @ S\n",
    "\n",
    "EBNH = E @ BN @ H"
   ]
  },
  {
   "cell_type": "code",
   "execution_count": null,
   "metadata": {},
   "outputs": [],
   "source": [
    "p = pyibm.EulerianField('p', gridc, ic=0.0)\n",
    "ux = pyibm.EulerianField('ux', gridx, ic=1.0)\n",
    "uy = pyibm.EulerianField('uy', gridx, ic=0.0)"
   ]
  },
  {
   "cell_type": "code",
   "execution_count": null,
   "metadata": {},
   "outputs": [],
   "source": []
  }
 ],
 "metadata": {
  "kernelspec": {
   "display_name": "Python 3 (PyIBM)",
   "language": "python",
   "name": "py36-pyibm"
  },
  "language_info": {
   "codemirror_mode": {
    "name": "ipython",
    "version": 3
   },
   "file_extension": ".py",
   "mimetype": "text/x-python",
   "name": "python",
   "nbconvert_exporter": "python",
   "pygments_lexer": "ipython3",
   "version": "3.6.10"
  }
 },
 "nbformat": 4,
 "nbformat_minor": 2
}
