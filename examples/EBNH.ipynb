{
 "cells": [
  {
   "cell_type": "markdown",
   "metadata": {},
   "source": [
    "# EBNH (LHS of forces system)\n",
    "\n",
    "Purpose: check if the operator `ENBH` (as implemented in PetIBM) is symmetric."
   ]
  },
  {
   "cell_type": "code",
   "execution_count": null,
   "metadata": {},
   "outputs": [],
   "source": [
    "import itertools\n",
    "import numpy\n",
    "from scipy.sparse import csr_matrix\n",
    "\n",
    "import pyibm\n",
    "\n",
    "from helper import *"
   ]
  },
  {
   "cell_type": "code",
   "execution_count": null,
   "metadata": {},
   "outputs": [],
   "source": [
    "%matplotlib qt"
   ]
  },
  {
   "cell_type": "code",
   "execution_count": null,
   "metadata": {},
   "outputs": [],
   "source": [
    "pyibm.__version__"
   ]
  },
  {
   "cell_type": "code",
   "execution_count": null,
   "metadata": {},
   "outputs": [],
   "source": [
    "# Create the staggered Cartesian grids.\n",
    "xlim, ylim = (-15.0, 15.0), (-15.0, 15.0)\n",
    "xbox, ybox = (-0.75, 0.75), (-0.75, 0.75)\n",
    "dx, dy = 0.01, 0.01  # grid spacings in the uniform region\n",
    "\n",
    "config = {'x': {'start': xlim[0],\n",
    "                'segments': [{'end': xbox[0],\n",
    "                              'width': dx,\n",
    "                              'stretching': 1.03,\n",
    "                              'reverse': True},\n",
    "                             {'end': xbox[1],\n",
    "                              'width': dx,\n",
    "                              'stretching': 1.0},\n",
    "                             {'end': xlim[1],\n",
    "                              'width': dx,\n",
    "                              'stretching': 1.01}]},\n",
    "          'y': {'start': ylim[0],\n",
    "                'segments': [{'end': ybox[0],\n",
    "                              'width': dy,\n",
    "                              'stretching': 1.04,\n",
    "                              'reverse': True},\n",
    "                             {'end': ybox[1],\n",
    "                              'width': dy,\n",
    "                              'stretching': 1.0},\n",
    "                             {'end': ylim[1],\n",
    "                              'width': dy,\n",
    "                              'stretching': 1.04}]}}\n",
    "\n",
    "grid = pyibm.GridBase(config=config)  # vertices\n",
    "gridc = pyibm.GridCellCentered(grid=grid)  # cell-centered\n",
    "gridx = pyibm.GridFaceX(grid=grid)  # x-face centered\n",
    "gridy = pyibm.GridFaceY(grid=grid)  # y-face centerred\n",
    "\n",
    "# Display information about the grids.\n",
    "print(gridc)\n",
    "print(gridx)\n",
    "print(gridy)"
   ]
  },
  {
   "cell_type": "code",
   "execution_count": null,
   "metadata": {},
   "outputs": [],
   "source": [
    "# Create the Laplacian operator.\n",
    "Re = 100.0  # Reynolds number\n",
    "LHat = 1 / Re * pyibm.assemble_LHat(gridx, gridy)\n",
    "print_matrix_info(LHat)"
   ]
  },
  {
   "cell_type": "code",
   "execution_count": null,
   "metadata": {},
   "outputs": [],
   "source": [
    "# Create the approximate inverse of the operator A (velocity system).\n",
    "dt = 0.01  # time-step size\n",
    "BN = pyibm.assemble_BN(gridx, gridy, dt=dt, alpha=0.5, N=1, L=LHat)\n",
    "print_matrix_info(BN)"
   ]
  },
  {
   "cell_type": "code",
   "execution_count": null,
   "metadata": {},
   "outputs": [],
   "source": [
    "# Create the immersed boundary (circle).\n",
    "radius = 0.5\n",
    "xc, yc = 0.0, 0.0\n",
    "ds = dx\n",
    "N = int(round(2 * numpy.pi * radius / ds))\n",
    "theta = numpy.linspace(0.0, 2 * numpy.pi, num=N + 1)[:-1]\n",
    "x, y = xc + radius * numpy.cos(theta), yc + radius * numpy.sin(theta)\n",
    "body = pyibm.Body(x, y, grid=gridc)\n",
    "body"
   ]
  },
  {
   "cell_type": "code",
   "execution_count": null,
   "metadata": {},
   "outputs": [],
   "source": [
    "# Create the scaling diagonal matrix MHat.\n",
    "MHat = pyibm.assemble_MHat(gridx, gridy)\n",
    "print_matrix_info(MHat)"
   ]
  },
  {
   "cell_type": "code",
   "execution_count": null,
   "metadata": {},
   "outputs": [],
   "source": [
    "# Create the scaling diagonal matrix R.\n",
    "R = pyibm.assemble_R(gridx, gridy)\n",
    "print_matrix_info(R)"
   ]
  },
  {
   "cell_type": "code",
   "execution_count": null,
   "metadata": {},
   "outputs": [],
   "source": [
    "# Set the delta kernel to use and support size.\n",
    "delta_kernel = pyibm.delta_roma_et_al_1999\n",
    "delta_kernel_size = 2\n",
    "\n",
    "# Create the transfer kernel.\n",
    "Op = pyibm.assemble_delta(body, gridc, gridx, gridy,\n",
    "                          kernel=delta_kernel,\n",
    "                          kernel_size=delta_kernel_size)\n",
    "print_matrix_info(Op)"
   ]
  },
  {
   "cell_type": "code",
   "execution_count": null,
   "metadata": {},
   "outputs": [],
   "source": [
    "# Create the interpolation operator (as implemented in PetIBM).\n",
    "EHat = Op @ R @ MHat\n",
    "print_matrix_info(EHat)"
   ]
  },
  {
   "cell_type": "code",
   "execution_count": null,
   "metadata": {},
   "outputs": [],
   "source": [
    "# Create the speading operator (as implemented in PetIBM).\n",
    "HHat = csr_matrix(Op.T)\n",
    "print_matrix_info(HHat)"
   ]
  },
  {
   "cell_type": "code",
   "execution_count": null,
   "metadata": {},
   "outputs": [],
   "source": [
    "# Create the LHS operator of the system for the Lagrangian forces.\n",
    "EBNH = EHat @ BN @ HHat\n",
    "print_matrix_info(EBNH)\n",
    "# Check if operator is symmetric.\n",
    "is_symmetric(EBNH)"
   ]
  },
  {
   "cell_type": "code",
   "execution_count": null,
   "metadata": {},
   "outputs": [],
   "source": [
    "# Plot the non-zero structure of the operator.\n",
    "plot_matrix(EBNH, cmap='viridis');"
   ]
  },
  {
   "cell_type": "code",
   "execution_count": null,
   "metadata": {},
   "outputs": [],
   "source": [
    "condition_number(EBNH)"
   ]
  },
  {
   "cell_type": "code",
   "execution_count": null,
   "metadata": {},
   "outputs": [],
   "source": [
    "Nmax = 3\n",
    "xc_all = numpy.linspace(-dx, dx, num=11)\n",
    "yc_all = numpy.linspace(-dx, dx, num=11)\n",
    "ratios = [1.0, 1.5, 2.0, 2.5]\n",
    "\n",
    "data = {}\n",
    "for N in range(1, Nmax + 1):\n",
    "    BN = pyibm.assemble_BN(gridx, gridy,\n",
    "                           dt=dt, alpha=0.5, N=N, L=LHat)\n",
    "    subdata = {}\n",
    "    for r in ratios:\n",
    "        xc_vals, yc_vals = [], []\n",
    "        cond_vals = []\n",
    "        for xc, yc in itertools.product(xc_all, yc_all):\n",
    "            radius = 0.5\n",
    "            ds = dx / r\n",
    "            Nb = int(round(2 * numpy.pi * radius / ds))\n",
    "            theta = numpy.linspace(0.0, 2 * numpy.pi, num=Nb + 1)[:-1]\n",
    "            x = xc + radius * numpy.cos(theta)\n",
    "            y = yc + radius * numpy.sin(theta)\n",
    "            body = pyibm.Body(x, y, grid=gridc)\n",
    "            Op = pyibm.assemble_delta(body, gridc, gridx, gridy,\n",
    "                                      kernel=delta_kernel,\n",
    "                                      kernel_size=delta_kernel_size)\n",
    "            EHat = Op @ R @ MHat\n",
    "            HHat = csr_matrix(Op.T)\n",
    "            EBNH = EHat @ BN @ HHat\n",
    "            xc_vals.append(xc)\n",
    "            yc_vals.append(yc)\n",
    "            cond_vals.append(condition_number(EBNH))\n",
    "        subdata[f'r={r}'] = {'xc': xc_vals, 'yc': yc_vals,\n",
    "                             'cond': cond_vals}\n",
    "    data[f'N={N}'] = subdata"
   ]
  },
  {
   "cell_type": "code",
   "execution_count": null,
   "metadata": {},
   "outputs": [],
   "source": [
    "fig, ax = pyplot.subplots(nrows=Nmax, ncols=len(ratios),\n",
    "                          figsize=(10.0, 10.0))\n",
    "for i, N in enumerate(range(1, Nmax + 1)):\n",
    "    for j, r in enumerate(ratios):\n",
    "        subdata = data[f'N={N}'][f'r={r}']\n",
    "        cond = numpy.array([c[-1] for c in subdata['cond']])\n",
    "        cond = numpy.absolute(cond)\n",
    "        ax[i, j].set_title(f'N={N}, r={r}')\n",
    "        ax[i, j].contourf(xc_all, yc_all, cond.reshape((xc_all.size,\n",
    "                                                        yc_all.size)))\n",
    "        ax[i, j].text(min(xc_all), min(yc_all),\n",
    "                      'min={:.2e}\\nmax={:.2e}'.format(min(cond), max(cond)))\n",
    "        ax[i, j].axis('off')"
   ]
  },
  {
   "cell_type": "code",
   "execution_count": null,
   "metadata": {},
   "outputs": [],
   "source": []
  }
 ],
 "metadata": {
  "kernelspec": {
   "display_name": "Python 3 (PyIBM)",
   "language": "python",
   "name": "py36-pyibm-dev"
  },
  "language_info": {
   "codemirror_mode": {
    "name": "ipython",
    "version": 3
   },
   "file_extension": ".py",
   "mimetype": "text/x-python",
   "name": "python",
   "nbconvert_exporter": "python",
   "pygments_lexer": "ipython3",
   "version": "3.6.8"
  }
 },
 "nbformat": 4,
 "nbformat_minor": 2
}
