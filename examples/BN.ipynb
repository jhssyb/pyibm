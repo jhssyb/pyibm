{
 "cells": [
  {
   "cell_type": "markdown",
   "metadata": {},
   "source": [
    "# BN: approximate inverse of the left-hand side operator of the velocity system\n",
    "\n",
    "Objective: estimate the condition number of the left-hand side operator of the pressure Poisson system for different truncated Taylor series of the inverse operator for the velocity system."
   ]
  },
  {
   "cell_type": "code",
   "execution_count": 1,
   "metadata": {},
   "outputs": [],
   "source": [
    "from scipy.sparse import identity\n",
    "from scipy.sparse.linalg import norm\n",
    "\n",
    "import pyibm"
   ]
  },
  {
   "cell_type": "code",
   "execution_count": 2,
   "metadata": {},
   "outputs": [],
   "source": [
    "%matplotlib inline"
   ]
  },
  {
   "cell_type": "code",
   "execution_count": 3,
   "metadata": {},
   "outputs": [
    {
     "data": {
      "text/plain": [
       "'0.1'"
      ]
     },
     "execution_count": 3,
     "metadata": {},
     "output_type": "execute_result"
    }
   ],
   "source": [
    "pyibm.__version__"
   ]
  },
  {
   "cell_type": "markdown",
   "metadata": {},
   "source": [
    "## Create stretched Cartesian grids"
   ]
  },
  {
   "cell_type": "code",
   "execution_count": 4,
   "metadata": {},
   "outputs": [
    {
     "name": "stdout",
     "output_type": "stream",
     "text": [
      "Grid(size=38078, shape=(158, 241), gridlines=[\n",
      "Gridline(start=-15.0, end=15.0, size=241),\n",
      "Gridline(start=-15.0, end=15.0, size=158)])\n",
      "Grid(size=37920, shape=(158, 240), gridlines=[\n",
      "Gridline(start=-15.0, end=15.0, size=240),\n",
      "Gridline(start=-15.0, end=15.0, size=158)])\n",
      "Grid(size=37837, shape=(157, 241), gridlines=[\n",
      "Gridline(start=-15.0, end=15.0, size=241),\n",
      "Gridline(start=-15.0, end=15.0, size=157)])\n"
     ]
    }
   ],
   "source": [
    "# Set parameters of the computational grid.\n",
    "xlim, ylim = (-15.0, 15.0), (-15.0, 15.0)  # domain limits\n",
    "xbox, ybox = (-0.75, 0.75), (-0.75, 0.75)  # uniform region\n",
    "dx, dy = 0.05, 0.05  # grid spacings in the uniform region\n",
    "\n",
    "config_x = [dict(start=xlim[0], end=xbox[0],\n",
    "                 width=dx, stretching=1.03, reverse=True),\n",
    "            dict(start=xbox[0], end=xbox[1], width=dx),\n",
    "            dict(start=xbox[1], end=xlim[1],\n",
    "                 width=dx, stretching=1.01)]\n",
    "\n",
    "config_y = [dict(start=ylim[0], end=ybox[0],\n",
    "                 width=dy, stretching=1.04, reverse=True),\n",
    "            dict(start=ybox[0], end=ybox[1], width=dy),\n",
    "            dict(start=ybox[1], end=ylim[1],\n",
    "                 width=dy, stretching=1.04)]\n",
    "\n",
    "config = {'x': dict(start=xlim[0], segments=config_x),\n",
    "          'y': dict(start=ylim[0], segments=config_y)}\n",
    "\n",
    "# Create staggered grids.\n",
    "grid = pyibm.GridBase(config=config)  # vertex grid\n",
    "gridc = pyibm.GridCellCentered(grid=grid)  # cell-centered grid\n",
    "gridx = pyibm.GridFaceX(grid=grid)  # x-face centered grid\n",
    "gridy = pyibm.GridFaceY(grid=grid)  # y-face centered grid\n",
    "print(gridc)\n",
    "print(gridx)\n",
    "print(gridy)"
   ]
  },
  {
   "cell_type": "markdown",
   "metadata": {},
   "source": [
    "## Assemble operators"
   ]
  },
  {
   "cell_type": "code",
   "execution_count": 5,
   "metadata": {},
   "outputs": [
    {
     "name": "stdout",
     "output_type": "stream",
     "text": [
      "Name:  GHat\n",
      "Type:  <class 'scipy.sparse.csr.csr_matrix'>\n",
      "Shape:  (75757, 38078)\n",
      "Size:  151514\n",
      "Min/Max:  -20.00000000000003 20.00000000000003\n",
      "Name:  DHat\n",
      "Type:  <class 'scipy.sparse.csr.csr_matrix'>\n",
      "Shape:  (38078, 75757)\n",
      "Size:  151514\n",
      "Min/Max:  -0.5965515242499322 0.5965515242499322\n"
     ]
    }
   ],
   "source": [
    "# Assemble gradient operator.\n",
    "GHat = pyibm.assemble_GHat(gridc, gridx, gridy)\n",
    "pyibm.print_matrix_info(GHat, name='GHat')\n",
    "\n",
    "# Assemble divergence operator.\n",
    "DHat = pyibm.assemble_DHat(gridc, gridx, gridy)\n",
    "pyibm.print_matrix_info(DHat, name='DHat')"
   ]
  },
  {
   "cell_type": "code",
   "execution_count": 6,
   "metadata": {},
   "outputs": [
    {
     "name": "stdout",
     "output_type": "stream",
     "text": [
      "Name:  LHat\n",
      "Type:  <class 'scipy.sparse.csr.csr_matrix'>\n",
      "Shape:  (75757, 75757)\n",
      "Size:  377193\n",
      "Symmetric:  False\n",
      "Min/Max:  -1600.0000000000057 400.00000000000193\n"
     ]
    }
   ],
   "source": [
    "# Assemble Laplacian operator.\n",
    "LHat = pyibm.assemble_LHat(gridx, gridy)\n",
    "pyibm.print_matrix_info(LHat, name='LHat')"
   ]
  },
  {
   "cell_type": "code",
   "execution_count": 7,
   "metadata": {},
   "outputs": [
    {
     "name": "stdout",
     "output_type": "stream",
     "text": [
      "Name:  A\n",
      "Type:  <class 'scipy.sparse.csr.csr_matrix'>\n",
      "Shape:  (75757, 75757)\n",
      "Size:  377193\n",
      "Symmetric:  False\n",
      "Min/Max:  -2.0000000000000098 108.00000000000003\n"
     ]
    }
   ],
   "source": [
    "# Assemble the left-hand side operator of the velocity system.\n",
    "# A = (1 / dt) I - (a_I / Re) L\n",
    "dt = 0.01  # time-step size\n",
    "Re = 100.0  # Reynolds number\n",
    "a_I = 0.5  # implicit coefficient from Crank-Nicolson scheme\n",
    "size = gridx.size + gridy.size\n",
    "I = identity(size)\n",
    "A = 1 / dt * I - a_I / Re * LHat\n",
    "pyibm.print_matrix_info(A, name='A')"
   ]
  },
  {
   "cell_type": "code",
   "execution_count": 8,
   "metadata": {},
   "outputs": [
    {
     "name": "stdout",
     "output_type": "stream",
     "text": [
      "Name:  BN\n",
      "Type:  <class 'scipy.sparse.csr.csr_matrix'>\n",
      "Shape:  (75757, 75757)\n",
      "Size:  976889\n",
      "Symmetric:  False\n",
      "Min/Max:  2.2196330537567296e-10 0.009992380485539316\n"
     ]
    }
   ],
   "source": [
    "# Assemble the approximate inverse of the implicit velocity operator A.\n",
    "N = 3  # truncation order of the Taylor series expansion\n",
    "BN = pyibm.assemble_BN(gridx, gridy, dt=dt,\n",
    "                       alpha=a_I / Re, N=N, L=LHat)\n",
    "pyibm.print_matrix_info(BN, name='BN')"
   ]
  },
  {
   "cell_type": "code",
   "execution_count": 9,
   "metadata": {},
   "outputs": [
    {
     "name": "stdout",
     "output_type": "stream",
     "text": [
      "Name:  DBNG\n",
      "Type:  <class 'scipy.sparse.csr.csr_matrix'>\n",
      "Shape:  (38078, 38078)\n",
      "Size:  940798\n",
      "Symmetric:  True\n",
      "Min/Max:  -0.22602590280207158 0.11045928068927477\n"
     ]
    }
   ],
   "source": [
    "# Assemble the left-hand side operator of the Poisson system.\n",
    "DBNG = DHat @ BN @ GHat\n",
    "pyibm.print_matrix_info(DBNG, name='DBNG')"
   ]
  },
  {
   "cell_type": "markdown",
   "metadata": {},
   "source": [
    "## Condition number of Poisson operator"
   ]
  },
  {
   "cell_type": "code",
   "execution_count": 10,
   "metadata": {},
   "outputs": [
    {
     "name": "stdout",
     "output_type": "stream",
     "text": [
      "\n",
      "Truncation order:  1\n",
      "Name:  DB1G\n",
      "Type:  <class 'scipy.sparse.csr.csr_matrix'>\n",
      "Shape:  (38078, 38078)\n",
      "Size:  189592\n",
      "Symmetric:  True\n",
      "Min/Max:  -0.23947519459473085 0.11931030484998661\n",
      "Condition number:  (-6.462275462665142e-20, -0.47725770065559414, 7.385288717772574e+18)\n",
      "L2(A BN - I) =  11.45883544217135\n",
      "\n",
      "Truncation order:  2\n",
      "Name:  DB2G\n",
      "Type:  <class 'scipy.sparse.csr.csr_matrix'>\n",
      "Shape:  (38078, 38078)\n",
      "Size:  491028\n",
      "Symmetric:  True\n",
      "Min/Max:  -0.22506254728845054 0.10974139498652602\n",
      "Condition number:  (-1.4048216940815085e-18, -0.4390159110136853, 3.1250650019376294e+17)\n",
      "L2(A BN - I) =  0.9427787475515725\n",
      "\n",
      "Truncation order:  3\n",
      "Name:  DB3G\n",
      "Type:  <class 'scipy.sparse.csr.csr_matrix'>\n",
      "Shape:  (38078, 38078)\n",
      "Size:  940798\n",
      "Symmetric:  True\n",
      "Min/Max:  -0.22602590280207158 0.11045928068927477\n",
      "Condition number:  (-1.6106418647693223e-17, -0.4420800735789753, 2.744744708609014e+16)\n",
      "L2(A BN - I) =  0.0978171975471883\n"
     ]
    }
   ],
   "source": [
    "# Assemble the Poisson operator for different BN.\n",
    "# Print information about the Poisson operator.\n",
    "for N in [1, 2, 3]:\n",
    "    print('\\nTruncation order: ', N)\n",
    "    # Assemble approximate inverse of A.\n",
    "    BN = pyibm.assemble_BN(gridx, gridy, dt=dt,\n",
    "                           alpha=a_I / Re, N=N, L=LHat)\n",
    "    # Assemble Poisson operator.\n",
    "    DBNG = DHat @ BN @ GHat\n",
    "    pyibm.print_matrix_info(DBNG, name=f'DB{N}G')\n",
    "    print('Condition number: ', pyibm.condition_number(DBNG))\n",
    "    M = A @ BN - I\n",
    "    print('L2(A BN - I) = ', norm(M))"
   ]
  },
  {
   "cell_type": "code",
   "execution_count": null,
   "metadata": {},
   "outputs": [],
   "source": []
  }
 ],
 "metadata": {
  "kernelspec": {
   "display_name": "Python 3 (PyIBM)",
   "language": "python",
   "name": "py36-pyibm"
  },
  "language_info": {
   "codemirror_mode": {
    "name": "ipython",
    "version": 3
   },
   "file_extension": ".py",
   "mimetype": "text/x-python",
   "name": "python",
   "nbconvert_exporter": "python",
   "pygments_lexer": "ipython3",
   "version": "3.6.10"
  }
 },
 "nbformat": 4,
 "nbformat_minor": 2
}
