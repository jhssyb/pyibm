{
 "cells": [
  {
   "cell_type": "code",
   "execution_count": null,
   "metadata": {},
   "outputs": [],
   "source": [
    "import numpy\n",
    "from scipy.sparse import csc_matrix, csr_matrix, hstack, identity\n",
    "from scipy.sparse.linalg import inv, norm\n",
    "\n",
    "import pyibm\n",
    "\n",
    "from helper import *"
   ]
  },
  {
   "cell_type": "code",
   "execution_count": null,
   "metadata": {},
   "outputs": [],
   "source": [
    "%matplotlib qt"
   ]
  },
  {
   "cell_type": "code",
   "execution_count": null,
   "metadata": {},
   "outputs": [],
   "source": [
    "pyibm.__version__"
   ]
  },
  {
   "cell_type": "code",
   "execution_count": null,
   "metadata": {},
   "outputs": [],
   "source": [
    "xlim, ylim = (-15.0, 15.0), (-15.0, 15.0)\n",
    "xbox, ybox = (-0.75, 0.75), (-0.75, 0.75)\n",
    "dx, dy = 0.05, 0.05  # grid spacings in the uniform region\n",
    "\n",
    "config = {'x': {'start': xlim[0],\n",
    "                'segments': [{'end': xbox[0],\n",
    "                              'width': dx,\n",
    "                              'stretching': 1.03,\n",
    "                              'reverse': True},\n",
    "                             {'end': xbox[1],\n",
    "                              'width': dx,\n",
    "                              'stretching': 1.0},\n",
    "                             {'end': xlim[1],\n",
    "                              'width': dx,\n",
    "                              'stretching': 1.01}]},\n",
    "          'y': {'start': ylim[0],\n",
    "                'segments': [{'end': ybox[0],\n",
    "                              'width': dy,\n",
    "                              'stretching': 1.04,\n",
    "                              'reverse': True},\n",
    "                             {'end': ybox[1],\n",
    "                              'width': dy,\n",
    "                              'stretching': 1.0},\n",
    "                             {'end': ylim[1],\n",
    "                              'width': dy,\n",
    "                              'stretching': 1.04}]}}\n",
    "\n",
    "grid = pyibm.GridBase(config=config)\n",
    "gridc = pyibm.GridCellCentered(grid=grid)\n",
    "gridx = pyibm.GridFaceX(grid=grid)\n",
    "gridy = pyibm.GridFaceY(grid=grid)"
   ]
  },
  {
   "cell_type": "code",
   "execution_count": null,
   "metadata": {},
   "outputs": [],
   "source": [
    "print(gridc)\n",
    "print(gridx)\n",
    "print(gridy)"
   ]
  },
  {
   "cell_type": "code",
   "execution_count": null,
   "metadata": {},
   "outputs": [],
   "source": [
    "GHat = pyibm.assemble_GHat(gridc, gridx, gridy)\n",
    "DHat = pyibm.assemble_DHat(gridc, gridx, gridy)\n",
    "\n",
    "print('GHat:')\n",
    "print_matrix_info(GHat)\n",
    "print('DHat:')\n",
    "print_matrix_info(DHat)"
   ]
  },
  {
   "cell_type": "code",
   "execution_count": null,
   "metadata": {},
   "outputs": [],
   "source": [
    "Re = 100.0\n",
    "LHat = 1 / Re * pyibm.assemble_LHat(gridx, gridy)\n",
    "print_matrix_info(LHat)"
   ]
  },
  {
   "cell_type": "code",
   "execution_count": null,
   "metadata": {},
   "outputs": [],
   "source": [
    "dt = 0.01\n",
    "BN = pyibm.assemble_BN(gridx, gridy, dt=dt, alpha=0.5, N=3, L=LHat)\n",
    "print_matrix_info(BN)"
   ]
  },
  {
   "cell_type": "code",
   "execution_count": null,
   "metadata": {},
   "outputs": [],
   "source": [
    "DBNG = DHat @ BN @ GHat\n",
    "print_matrix_info(DBNG)\n",
    "is_symmetric(DBNG)"
   ]
  },
  {
   "cell_type": "code",
   "execution_count": null,
   "metadata": {},
   "outputs": [],
   "source": [
    "alpha = 0.5\n",
    "size = gridx.size + gridy.size\n",
    "I = identity(size)\n",
    "A = 1 / dt * I - alpha * LHat\n",
    "print_matrix_info(A)\n",
    "is_symmetric(A)"
   ]
  },
  {
   "cell_type": "code",
   "execution_count": null,
   "metadata": {},
   "outputs": [],
   "source": [
    "N_min, N_max = 1, 3\n",
    "for N in range(N_min, N_max + 1):\n",
    "    print('Truncation order: ', N)\n",
    "    BN = pyibm.assemble_BN(gridx, gridy, dt=dt, alpha=0.5, N=N, L=LHat)\n",
    "    DBNG = DHat @ BN @ GHat\n",
    "    print_matrix_info(DBNG)\n",
    "    print('Condition number: ', condition_number(DBNG))\n",
    "    print('Is symmetric? ', is_symmetric(DBNG))\n",
    "    print('Min abs data: ', numpy.min(abs(DBNG).data))\n",
    "    M = A @ BN - I\n",
    "    print('L2(A BN - I) = ', norm(M))\n",
    "#     plot_matrix(DBNG, cmap='viridis', markersize=10)"
   ]
  },
  {
   "cell_type": "code",
   "execution_count": null,
   "metadata": {},
   "outputs": [],
   "source": []
  }
 ],
 "metadata": {
  "kernelspec": {
   "display_name": "Python 3 (PyIBM)",
   "language": "python",
   "name": "py36-pyibm-dev"
  },
  "language_info": {
   "codemirror_mode": {
    "name": "ipython",
    "version": 3
   },
   "file_extension": ".py",
   "mimetype": "text/x-python",
   "name": "python",
   "nbconvert_exporter": "python",
   "pygments_lexer": "ipython3",
   "version": "3.6.8"
  }
 },
 "nbformat": 4,
 "nbformat_minor": 2
}
