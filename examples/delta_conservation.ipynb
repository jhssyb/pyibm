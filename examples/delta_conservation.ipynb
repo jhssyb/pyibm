{
 "cells": [
  {
   "cell_type": "markdown",
   "metadata": {},
   "source": [
    "# Conservation properties of delta function"
   ]
  },
  {
   "cell_type": "code",
   "execution_count": 1,
   "metadata": {},
   "outputs": [],
   "source": [
    "import math\n",
    "import numpy\n",
    "import random\n",
    "\n",
    "import pyibm\n",
    "\n",
    "%matplotlib inline"
   ]
  },
  {
   "cell_type": "code",
   "execution_count": 2,
   "metadata": {},
   "outputs": [
    {
     "data": {
      "text/plain": [
       "'0.1'"
      ]
     },
     "execution_count": 2,
     "metadata": {},
     "output_type": "execute_result"
    }
   ],
   "source": [
    "pyibm.__version__"
   ]
  },
  {
   "cell_type": "markdown",
   "metadata": {},
   "source": [
    "## Create Cartesian grids"
   ]
  },
  {
   "cell_type": "code",
   "execution_count": 3,
   "metadata": {},
   "outputs": [
    {
     "name": "stdout",
     "output_type": "stream",
     "text": [
      "Grid(size=4000, shape=(200, 20), gridlines=[\n",
      "Gridline(start=-2.0, end=2.0, size=20),\n",
      "Gridline(start=-2.0, end=2.0, size=200)])\n",
      "Grid(size=3800, shape=(200, 19), gridlines=[\n",
      "Gridline(start=-2.0, end=2.0, size=19),\n",
      "Gridline(start=-2.0, end=2.0, size=200)])\n",
      "Grid(size=3980, shape=(199, 20), gridlines=[\n",
      "Gridline(start=-2.0, end=2.0, size=20),\n",
      "Gridline(start=-2.0, end=2.0, size=199)])\n"
     ]
    }
   ],
   "source": [
    "# Set configuration parameters of computational grid.\n",
    "config = dict(x=dict(start=-2.0, end=2.0, num_cells=20),\n",
    "              y=dict(start=-2.0, end=2.0, num_cells=200))\n",
    "# Create staggered grids.\n",
    "grid = pyibm.GridBase(config=config)  # vertex grid\n",
    "gridc = pyibm.GridCellCentered(grid=grid)  # cell-centered grid\n",
    "gridx = pyibm.GridFaceX(grid=grid)  # x-face centered grid\n",
    "gridy = pyibm.GridFaceY(grid=grid)  # y-face centered grid\n",
    "print(gridc)\n",
    "print(gridx)\n",
    "print(gridy)"
   ]
  },
  {
   "cell_type": "markdown",
   "metadata": {},
   "source": [
    "## Create immersed boundary"
   ]
  },
  {
   "cell_type": "code",
   "execution_count": 4,
   "metadata": {},
   "outputs": [],
   "source": [
    "def circle(radius=0.5, center=(0.0, 0.0), ds=0.1, phi=0.0):\n",
    "    \"\"\"Compute uniformly distributed coordinates on circle.\"\"\"\n",
    "    xc, yc = center\n",
    "    N = math.ceil(2 * math.pi * radius / ds)\n",
    "    theta = numpy.linspace(0.0, 2 * math.pi, num=N + 1)[:-1] + phi\n",
    "    x = xc + radius * numpy.cos(theta)\n",
    "    y = yc + radius * numpy.sin(theta)\n",
    "    return x, y"
   ]
  },
  {
   "cell_type": "code",
   "execution_count": 5,
   "metadata": {},
   "outputs": [
    {
     "data": {
      "text/plain": [
       "Body(ndim=2, size=16)"
      ]
     },
     "execution_count": 5,
     "metadata": {},
     "output_type": "execute_result"
    }
   ],
   "source": [
    "# Create immersed boundary.\n",
    "ds = gridc.x.widths[0]\n",
    "body = pyibm.Body(*circle(ds=ds), grid=gridc)\n",
    "body"
   ]
  },
  {
   "cell_type": "markdown",
   "metadata": {},
   "source": [
    "## Assemble delta operator"
   ]
  },
  {
   "cell_type": "code",
   "execution_count": 6,
   "metadata": {},
   "outputs": [
    {
     "name": "stdout",
     "output_type": "stream",
     "text": [
      "Name:  Delta\n",
      "Type:  <class 'scipy.sparse.csr.csr_matrix'>\n",
      "Shape:  (32, 7780)\n",
      "Size:  268\n",
      "Min/Max:  -9.251858538542977e-15 111.11111111111117\n",
      "Name:  Delta (bigger window)\n",
      "Type:  <class 'scipy.sparse.csr.csr_matrix'>\n",
      "Shape:  (32, 7780)\n",
      "Size:  268\n",
      "Min/Max:  -9.251858538542977e-15 111.11111111111117\n"
     ]
    }
   ],
   "source": [
    "# Assemble delta kernel operator.\n",
    "Op = pyibm.assemble_delta(body, gridc, gridx, gridy,\n",
    "                          kernel=pyibm.delta_roma_et_al_1999,\n",
    "                          kernel_size=2)\n",
    "pyibm.print_matrix_info(Op, name='Delta')\n",
    "\n",
    "# Check that operator remains the same if we increase\n",
    "# the kernel window (additional values should be zero).\n",
    "Op2 = pyibm.assemble_delta(body, gridc, gridx, gridy,\n",
    "                           kernel=pyibm.delta_roma_et_al_1999,\n",
    "                           kernel_size=3)\n",
    "pyibm.print_matrix_info(Op2, name='Delta (bigger window)')\n",
    "\n",
    "assert Op.nnz == Op2.nnz"
   ]
  },
  {
   "cell_type": "markdown",
   "metadata": {},
   "source": [
    "## Assemble interpolation and spreading operators"
   ]
  },
  {
   "cell_type": "code",
   "execution_count": 7,
   "metadata": {},
   "outputs": [
    {
     "name": "stdout",
     "output_type": "stream",
     "text": [
      "Name:  E\n",
      "Type:  <class 'scipy.sparse.csr.csr_matrix'>\n",
      "Shape:  (32, 7780)\n",
      "Size:  268\n",
      "Min/Max:  -3.700743415417193e-17 0.444444444444445\n"
     ]
    }
   ],
   "source": [
    "# Assemble interpolation operator.\n",
    "R = pyibm.assemble_R(gridx, gridy)\n",
    "MHat = pyibm.assemble_MHat(gridx, gridy)\n",
    "E = Op @ R @ MHat\n",
    "pyibm.print_matrix_info(E, name='E')"
   ]
  },
  {
   "cell_type": "code",
   "execution_count": 8,
   "metadata": {},
   "outputs": [
    {
     "name": "stdout",
     "output_type": "stream",
     "text": [
      "Name:  H\n",
      "Type:  <class 'scipy.sparse.csc.csc_matrix'>\n",
      "Shape:  (7780, 32)\n",
      "Size:  268\n",
      "Min/Max:  -1.8049480615320154e-15 21.676702446236487\n"
     ]
    }
   ],
   "source": [
    "# Assemble spreading operator (using surface areas).\n",
    "S = pyibm.assemble_surfaces(body)\n",
    "H = Op.T @ S\n",
    "pyibm.print_matrix_info(H, name='H')"
   ]
  },
  {
   "cell_type": "markdown",
   "metadata": {},
   "source": [
    "## Check conservation properties"
   ]
  },
  {
   "cell_type": "code",
   "execution_count": 9,
   "metadata": {},
   "outputs": [
    {
     "name": "stdout",
     "output_type": "stream",
     "text": [
      "1.5430309768233696 2.0255990412597487\n",
      "1.5430309768233683 2.025599041259746\n"
     ]
    }
   ],
   "source": [
    "# Create array for Lagrangian forces.\n",
    "Fx = numpy.random.rand(body.size)\n",
    "Fy = numpy.random.rand(body.size)\n",
    "F = numpy.empty(body.ndim * body.size)\n",
    "F[::body.ndim], F[1::body.ndim] = Fx, Fy\n",
    "\n",
    "# Spread Lagrangian forces to Eulerian grid.\n",
    "f = H @ F\n",
    "fx = f[:gridx.size].reshape(gridx.shape)\n",
    "fy = f[gridx.size:].reshape(gridy.shape)\n",
    "\n",
    "# Get surface area and cell volume.\n",
    "dS = body.ds\n",
    "dx = gridc.x.widths[gridc.ijk(body.neighbors[0])[0]]\n",
    "dy = gridc.y.widths[gridc.ijk(body.neighbors[0])[1]]\n",
    "dV = dx * dy\n",
    "\n",
    "# Integrate forces.\n",
    "print(numpy.sum(Fx) * dS, numpy.sum(Fy) * dS)\n",
    "print(numpy.sum(fx) * dV, numpy.sum(fy) * dV)"
   ]
  },
  {
   "cell_type": "markdown",
   "metadata": {},
   "source": [
    "$$\n",
    "\\sum_{i, j, k} \\mathbf{f}\\left( \\mathbf{x}_{i, j, k} \\right) \\Delta v_{i, j, k} = \\sum_{m} \\mathbf{F}\\left( \\mathbf{X}_{m} \\right) \\Delta V_{m}\n",
    "$$"
   ]
  },
  {
   "cell_type": "code",
   "execution_count": 10,
   "metadata": {},
   "outputs": [
    {
     "name": "stdout",
     "output_type": "stream",
     "text": [
      "-0.018795888190089934\n",
      "-0.01879588819009014\n"
     ]
    }
   ],
   "source": [
    "Xx, Yx = numpy.meshgrid(gridx.x.vertices, gridx.y.vertices)\n",
    "Xy, Yy = numpy.meshgrid(gridy.x.vertices, gridy.y.vertices)\n",
    "\n",
    "print((numpy.sum(Xy * fy) - numpy.sum(Yx * fx)) * dV)\n",
    "print(numpy.sum(body.x * Fy - body.y * Fx) * dS)"
   ]
  },
  {
   "cell_type": "markdown",
   "metadata": {},
   "source": [
    "$$\n",
    "\\sum_{i j, k} \\mathbf{x}_{i j, k} \\times \\mathbf{f}\\left( \\mathbf{x}_{i, j, k} \\right) \\Delta v_{i, j, k} = \\sum_{m} \\mathbf{X}_{m} \\times \\mathbf{F}\\left( \\mathbf{X}_{m} \\right) \\Delta V_{m}\n",
    "$$"
   ]
  },
  {
   "cell_type": "code",
   "execution_count": 11,
   "metadata": {},
   "outputs": [],
   "source": [
    "# Set regularized delta kernel.\n",
    "delta_kernel = pyibm.delta_roma_et_al_1999\n",
    "vdelta_kernel = numpy.vectorize(delta_kernel)\n",
    "\n",
    "# Create 1D domain.\n",
    "x = numpy.linspace(0.0, 1.0, num=100)\n",
    "dx = x[1] - x[0]\n",
    "\n",
    "n_repeat = 200\n",
    "tol = 1e-14\n",
    "for _ in range(n_repeat):\n",
    "    # Randomly define location of Lagrangian marker.\n",
    "    xb = random.uniform(x[0] + 3 * dx, x[-1] - 3 * dx)\n",
    "    # Compute.\n",
    "    dist = numpy.abs(x - xb)\n",
    "    res = dx * numpy.sum(vdelta_kernel(dist, dx))\n",
    "    ans = 1.0\n",
    "    assert abs(res - ans) < tol\n",
    "    \n",
    "    res = dx * numpy.sum((x - xb) * vdelta_kernel(dist, dx))\n",
    "    ans = 0.0\n",
    "    assert abs(res - ans) < tol"
   ]
  },
  {
   "cell_type": "markdown",
   "metadata": {},
   "source": [
    "$$\n",
    "\\sum_{i j, k} \\delta_{h}\\left( \\mathbf{X}_{i, j, k} - \\mathbf{X} \\right) \\Delta v_{i, j, k} = 1\n",
    "$$\n",
    "\n",
    "$$\n",
    "\\sum_{i j, k}\\left( \\mathbf{x}_{i, j, k} - \\mathbf{X} \\right) \\delta_{h}\\left( \\mathbf{x}_{i j, k} - \\mathbf{X} \\right) \\Delta v_{i, j, k} = 0\n",
    "$$"
   ]
  },
  {
   "cell_type": "code",
   "execution_count": null,
   "metadata": {},
   "outputs": [],
   "source": []
  }
 ],
 "metadata": {
  "kernelspec": {
   "display_name": "Python 3 (PyIBM)",
   "language": "python",
   "name": "py36-pyibm"
  },
  "language_info": {
   "codemirror_mode": {
    "name": "ipython",
    "version": 3
   },
   "file_extension": ".py",
   "mimetype": "text/x-python",
   "name": "python",
   "nbconvert_exporter": "python",
   "pygments_lexer": "ipython3",
   "version": "3.6.10"
  }
 },
 "nbformat": 4,
 "nbformat_minor": 2
}
