{
 "cells": [
  {
   "cell_type": "code",
   "execution_count": null,
   "metadata": {},
   "outputs": [],
   "source": [
    "import numpy\n",
    "import random\n",
    "\n",
    "import pyibm\n",
    "\n",
    "from helper import *\n",
    "\n",
    "%matplotlib inline"
   ]
  },
  {
   "cell_type": "code",
   "execution_count": null,
   "metadata": {},
   "outputs": [],
   "source": [
    "pyibm.__version__"
   ]
  },
  {
   "cell_type": "code",
   "execution_count": null,
   "metadata": {},
   "outputs": [],
   "source": [
    "delta_kernel = pyibm.delta_roma_et_al_1999\n",
    "delta_kernel_size = 3"
   ]
  },
  {
   "cell_type": "code",
   "execution_count": null,
   "metadata": {},
   "outputs": [],
   "source": [
    "config = dict(x=dict(start=-2.0, end=2.0, num_cells=20),\n",
    "              y=dict(start=-2.0, end=2.0, num_cells=200))\n",
    "grid = pyibm.GridBase(config=config)\n",
    "grid"
   ]
  },
  {
   "cell_type": "code",
   "execution_count": null,
   "metadata": {},
   "outputs": [],
   "source": [
    "gridc = pyibm.GridCellCentered(grid=grid)\n",
    "gridx = pyibm.GridFaceX(grid=grid)\n",
    "gridy = pyibm.GridFaceY(grid=grid)"
   ]
  },
  {
   "cell_type": "code",
   "execution_count": null,
   "metadata": {},
   "outputs": [],
   "source": [
    "radius = 0.5\n",
    "xc, yc = 0.0, 0.0\n",
    "ds = gridx.x.get_widths()[0]\n",
    "N = int(round(2 * numpy.pi * radius / ds))\n",
    "N = 50\n",
    "theta = numpy.linspace(0.0, 2 * numpy.pi, num=N + 1)[:-1]\n",
    "x, y = xc + radius * numpy.cos(theta), yc + radius * numpy.sin(theta)\n",
    "body = pyibm.Body(x, y, grid=gridc)\n",
    "body"
   ]
  },
  {
   "cell_type": "code",
   "execution_count": null,
   "metadata": {},
   "outputs": [],
   "source": [
    "Op = pyibm.assemble_delta(body, gridc, gridx, gridy,\n",
    "                          kernel=delta_kernel,\n",
    "                          kernel_size=delta_kernel_size)"
   ]
  },
  {
   "cell_type": "code",
   "execution_count": null,
   "metadata": {},
   "outputs": [],
   "source": [
    "R = pyibm.assemble_R(gridx, gridy)\n",
    "MHat = pyibm.assemble_MHat(gridx, gridy)\n",
    "E = Op @ R @ MHat"
   ]
  },
  {
   "cell_type": "code",
   "execution_count": null,
   "metadata": {},
   "outputs": [],
   "source": [
    "S = pyibm.assemble_surfaces(body)\n",
    "H = Op.T @ S"
   ]
  },
  {
   "cell_type": "code",
   "execution_count": null,
   "metadata": {},
   "outputs": [],
   "source": [
    "Fx = numpy.random.rand(body.size)\n",
    "Fy = numpy.random.rand(body.size)\n",
    "F = numpy.empty(body.ndim * body.size)\n",
    "F[::body.ndim], F[1::body.ndim] = Fx, Fy\n",
    "\n",
    "f = H @ F\n",
    "fx = f[:gridx.size].reshape(gridx.shape)\n",
    "fy = f[gridx.size:].reshape(gridy.shape)\n",
    "\n",
    "dS = body.ds\n",
    "dx = gridc.x.get_widths()[gridc.ijk(body.neighbors[0])[0]]\n",
    "dy = gridc.y.get_widths()[gridc.ijk(body.neighbors[0])[1]]\n",
    "dV = dx * dy\n",
    "\n",
    "print(numpy.sum(Fx) * dS, numpy.sum(Fy) * dS)\n",
    "print(numpy.sum(fx) * dV, numpy.sum(fy) * dV)"
   ]
  },
  {
   "cell_type": "markdown",
   "metadata": {},
   "source": [
    "$$\n",
    "\\sum_{i, j, k} \\mathbf{f}\\left( \\mathbf{x}_{i, j, k} \\right) \\Delta v_{i, j, k} = \\sum_{m} \\mathbf{F}\\left( \\mathbf{X}_{m} \\right) \\Delta V_{m}\n",
    "$$"
   ]
  },
  {
   "cell_type": "code",
   "execution_count": null,
   "metadata": {},
   "outputs": [],
   "source": [
    "Xx, Yx = numpy.meshgrid(gridx.x.vertices, gridx.y.vertices)\n",
    "Xy, Yy = numpy.meshgrid(gridy.x.vertices, gridy.y.vertices)\n",
    "\n",
    "print((numpy.sum(Xy * fy) - numpy.sum(Yx * fx)) * dV)\n",
    "print(numpy.sum(body.x * Fy - body.y * Fx) * dS)"
   ]
  },
  {
   "cell_type": "markdown",
   "metadata": {},
   "source": [
    "$$\n",
    "\\sum_{i j, k} \\mathbf{x}_{i j, k} \\times \\mathbf{f}\\left( \\mathbf{x}_{i, j, k} \\right) \\Delta v_{i, j, k} = \\sum_{m} \\mathbf{X}_{m} \\times \\mathbf{F}\\left( \\mathbf{X}_{m} \\right) \\Delta V_{m}\n",
    "$$"
   ]
  },
  {
   "cell_type": "code",
   "execution_count": null,
   "metadata": {},
   "outputs": [],
   "source": [
    "plot_contourf(fx, gridx, body, show_grid=False);"
   ]
  },
  {
   "cell_type": "code",
   "execution_count": null,
   "metadata": {},
   "outputs": [],
   "source": [
    "xstart, xend = 0.0, 1.0\n",
    "nx = 100\n",
    "x = numpy.linspace(xstart, xend, num=nx + 1)\n",
    "dx = (xend - xstart) / nx\n",
    "\n",
    "tol = 1e-14\n",
    "for _ in range(20):\n",
    "    xb = random.uniform(xstart + 5 * dx, xend - 5 * dx)\n",
    "    res1 = dx * numpy.sum([delta_kernel(abs(xi - xb), dx)\n",
    "                           for xi in x])\n",
    "    res2 = dx * numpy.sum([(xi - xb) * delta_kernel(abs(xi - xb), dx)\n",
    "                           for xi in x])\n",
    "    assert abs(res1 - 1.0) <= tol\n",
    "    assert abs(res2 - 0.0) <= tol"
   ]
  },
  {
   "cell_type": "markdown",
   "metadata": {},
   "source": [
    "$$\n",
    "\\sum_{i j, k} \\delta_{h}\\left( \\mathbf{X}_{i, j, k} - \\mathbf{X} \\right) \\Delta v_{i, j, k} = 1\n",
    "$$\n",
    "\n",
    "$$\n",
    "\\sum_{i j, k}\\left( \\mathbf{x}_{i, j, k} - \\mathbf{X} \\right) \\delta_{h}\\left( \\mathbf{x}_{i j, k} - \\mathbf{X} \\right) \\Delta v_{i, j, k} = 0\n",
    "$$"
   ]
  },
  {
   "cell_type": "code",
   "execution_count": null,
   "metadata": {},
   "outputs": [],
   "source": []
  }
 ],
 "metadata": {
  "kernelspec": {
   "display_name": "Python 3 (PyIBM)",
   "language": "python",
   "name": "py36-pyibm-dev"
  },
  "language_info": {
   "codemirror_mode": {
    "name": "ipython",
    "version": 3
   },
   "file_extension": ".py",
   "mimetype": "text/x-python",
   "name": "python",
   "nbconvert_exporter": "python",
   "pygments_lexer": "ipython3",
   "version": "3.6.8"
  }
 },
 "nbformat": 4,
 "nbformat_minor": 2
}
