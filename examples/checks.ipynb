{
 "cells": [
  {
   "cell_type": "markdown",
   "metadata": {},
   "source": [
    "# Checks\n",
    "\n",
    "Objectives:\n",
    "\n",
    "* Check if the implicit velocity operator $A$ is symmetric positive-definite.\n",
    "* Check if there is any advantage in formulating the operators such that $D = -G^T$ and $H f = -E^T \\tilde{f}$."
   ]
  },
  {
   "cell_type": "code",
   "execution_count": 1,
   "metadata": {},
   "outputs": [],
   "source": [
    "import math\n",
    "import numpy\n",
    "from scipy.sparse import csr_matrix, hstack, identity\n",
    "\n",
    "import pyibm\n",
    "\n",
    "from helper import plot_contourf"
   ]
  },
  {
   "cell_type": "code",
   "execution_count": 2,
   "metadata": {},
   "outputs": [],
   "source": [
    "%matplotlib inline"
   ]
  },
  {
   "cell_type": "code",
   "execution_count": 3,
   "metadata": {},
   "outputs": [
    {
     "data": {
      "text/plain": [
       "'0.1'"
      ]
     },
     "execution_count": 3,
     "metadata": {},
     "output_type": "execute_result"
    }
   ],
   "source": [
    "pyibm.__version__"
   ]
  },
  {
   "cell_type": "markdown",
   "metadata": {},
   "source": [
    "## Create stretched Cartesian grids"
   ]
  },
  {
   "cell_type": "code",
   "execution_count": 4,
   "metadata": {},
   "outputs": [
    {
     "name": "stdout",
     "output_type": "stream",
     "text": [
      "Grid(size=38078, shape=(158, 241), gridlines=[\n",
      "Gridline(start=-15.0, end=15.0, size=241),\n",
      "Gridline(start=-15.0, end=15.0, size=158)])\n",
      "Grid(size=37920, shape=(158, 240), gridlines=[\n",
      "Gridline(start=-15.0, end=15.0, size=240),\n",
      "Gridline(start=-15.0, end=15.0, size=158)])\n",
      "Grid(size=37837, shape=(157, 241), gridlines=[\n",
      "Gridline(start=-15.0, end=15.0, size=241),\n",
      "Gridline(start=-15.0, end=15.0, size=157)])\n"
     ]
    }
   ],
   "source": [
    "# Set parameters of the computational grid.\n",
    "xlim, ylim = (-15.0, 15.0), (-15.0, 15.0)  # domain limits\n",
    "xbox, ybox = (-0.75, 0.75), (-0.75, 0.75)  # uniform region\n",
    "dx, dy = 0.05, 0.05  # grid spacings in the uniform region\n",
    "\n",
    "config_x = [dict(start=xlim[0], end=xbox[0],\n",
    "                 width=dx, stretching=1.03, reverse=True),\n",
    "            dict(start=xbox[0], end=xbox[1], width=dx),\n",
    "            dict(start=xbox[1], end=xlim[1],\n",
    "                 width=dx, stretching=1.01)]\n",
    "\n",
    "config_y = [dict(start=ylim[0], end=ybox[0],\n",
    "                 width=dy, stretching=1.04, reverse=True),\n",
    "            dict(start=ybox[0], end=ybox[1], width=dy),\n",
    "            dict(start=ybox[1], end=ylim[1],\n",
    "                 width=dy, stretching=1.04)]\n",
    "\n",
    "config = {'x': dict(start=xlim[0], segments=config_x),\n",
    "          'y': dict(start=ylim[0], segments=config_y)}\n",
    "\n",
    "# Uncomment the following three lines when testing.\n",
    "# config = dict(x=dict(start=-2.0, end=2.0, num_cells=20),\n",
    "#               y=dict(start=-2.0, end=2.0, num_cells=20))\n",
    "# dx, dy = 4.0 / 20, 4.0 / 20\n",
    "\n",
    "# Create staggered grids.\n",
    "grid = pyibm.GridBase(config=config)  # vertex grid\n",
    "gridc = pyibm.GridCellCentered(grid=grid)  # cell-centered grid\n",
    "gridx = pyibm.GridFaceX(grid=grid)  # x-face centered grid\n",
    "gridy = pyibm.GridFaceY(grid=grid)  # y-face centered grid\n",
    "print(gridc)\n",
    "print(gridx)\n",
    "print(gridy)"
   ]
  },
  {
   "cell_type": "markdown",
   "metadata": {},
   "source": [
    "## Assemble operators"
   ]
  },
  {
   "cell_type": "code",
   "execution_count": 5,
   "metadata": {},
   "outputs": [
    {
     "name": "stdout",
     "output_type": "stream",
     "text": [
      "Name:  GHat\n",
      "Type:  <class 'scipy.sparse.csr.csr_matrix'>\n",
      "Shape:  (75757, 38078)\n",
      "Size:  151514\n",
      "Min/Max:  -20.00000000000003 20.00000000000003\n",
      "Name:  DHat\n",
      "Type:  <class 'scipy.sparse.csr.csr_matrix'>\n",
      "Shape:  (38078, 75757)\n",
      "Size:  151514\n",
      "Min/Max:  -0.5965515242499322 0.5965515242499322\n"
     ]
    }
   ],
   "source": [
    "# Assemble non-normalized gradient operator.\n",
    "GHat = pyibm.assemble_GHat(gridc, gridx, gridy)\n",
    "pyibm.print_matrix_info(GHat, name='GHat')\n",
    "\n",
    "# Assemble non-normalized divergence operator.\n",
    "DHat = pyibm.assemble_DHat(gridc, gridx, gridy)\n",
    "pyibm.print_matrix_info(DHat, name='DHat')"
   ]
  },
  {
   "cell_type": "code",
   "execution_count": 6,
   "metadata": {},
   "outputs": [],
   "source": [
    "# Assemble diagonal scaling operators.\n",
    "MHat = pyibm.assemble_MHat(gridx, gridy)\n",
    "R = pyibm.assemble_R(gridx, gridy)\n",
    "RInv = pyibm.diagonal_inv(R)\n",
    "\n",
    "# $M = \\hat{M} R^{-1}$ (Taira & Colonius, 2007).\n",
    "M = MHat @ RInv"
   ]
  },
  {
   "cell_type": "code",
   "execution_count": 7,
   "metadata": {},
   "outputs": [
    {
     "name": "stdout",
     "output_type": "stream",
     "text": [
      "Name:  G\n",
      "Type:  <class 'scipy.sparse.csr.csr_matrix'>\n",
      "Shape:  (75757, 38078)\n",
      "Size:  151514\n",
      "Min/Max:  -1.0 1.0\n",
      "Name:  D\n",
      "Type:  <class 'scipy.sparse.csr.csr_matrix'>\n",
      "Shape:  (38078, 75757)\n",
      "Size:  151514\n",
      "Min/Max:  -1.0 1.0\n",
      "Name:  D + G^T\n",
      "Type:  <class 'scipy.sparse.csr.csr_matrix'>\n",
      "Shape:  (38078, 75757)\n",
      "Size:  0\n"
     ]
    }
   ],
   "source": [
    "# Normalize gradient and divergence operators.\n",
    "# $G = \\hat{M} \\hat{G}$ (Taira & Colonius, 2007).\n",
    "G = MHat @ GHat\n",
    "pyibm.print_matrix_info(G, name='G')\n",
    "# $D = \\hat{D} R^{-1}$ (Taira & Colonius, 2007).\n",
    "D = DHat @ RInv\n",
    "pyibm.print_matrix_info(D, name='D')\n",
    "\n",
    "# Divergence should be the opposite transposed gradient.\n",
    "K = D + G.T\n",
    "K = K.multiply(abs(K) > 1e-15) # remove extremely small values\n",
    "pyibm.print_matrix_info(K, name='D + G^T')"
   ]
  },
  {
   "cell_type": "markdown",
   "metadata": {},
   "source": [
    "Indeed, we have $D = -G^T$ with their elements equal to $+1$ or $-1$."
   ]
  },
  {
   "cell_type": "markdown",
   "metadata": {},
   "source": [
    "## Assemble delta operator"
   ]
  },
  {
   "cell_type": "code",
   "execution_count": 8,
   "metadata": {},
   "outputs": [],
   "source": [
    "def circle(radius=0.5, center=(0.0, 0.0), ds=0.1, phi=0.0):\n",
    "    \"\"\"Compute uniformly distributed coordinates on circle.\"\"\"\n",
    "    xc, yc = center\n",
    "    N = math.ceil(2 * math.pi * radius / ds)\n",
    "    theta = numpy.linspace(0.0, 2 * math.pi, num=N + 1)[:-1] + phi\n",
    "    x = xc + radius * numpy.cos(theta)\n",
    "    y = yc + radius * numpy.sin(theta)\n",
    "    return x, y"
   ]
  },
  {
   "cell_type": "code",
   "execution_count": 9,
   "metadata": {},
   "outputs": [
    {
     "data": {
      "text/plain": [
       "Body(ndim=2, size=63)"
      ]
     },
     "execution_count": 9,
     "metadata": {},
     "output_type": "execute_result"
    }
   ],
   "source": [
    "# Create an immersed boundary.\n",
    "body = pyibm.Body(*circle(ds=dx), grid=gridc)\n",
    "body"
   ]
  },
  {
   "cell_type": "code",
   "execution_count": 10,
   "metadata": {},
   "outputs": [],
   "source": [
    "# Set the delta kernel to use and its size.\n",
    "delta_kernel = pyibm.delta_roma_et_al_1999\n",
    "delta_kernel_size = 2"
   ]
  },
  {
   "cell_type": "code",
   "execution_count": 11,
   "metadata": {},
   "outputs": [
    {
     "name": "stdout",
     "output_type": "stream",
     "text": [
      "Name:  Delta\n",
      "Type:  <class 'scipy.sparse.csr.csr_matrix'>\n",
      "Shape:  (126, 75757)\n",
      "Size:  1122\n",
      "Min/Max:  5.423461406350576e-07 177.75685547777775\n"
     ]
    }
   ],
   "source": [
    "# Assemble the delta operator.\n",
    "Op = pyibm.assemble_delta(body, gridc, gridx, gridy,\n",
    "                          kernel=delta_kernel,\n",
    "                          kernel_size=delta_kernel_size)\n",
    "pyibm.print_matrix_info(Op, name='Delta')"
   ]
  },
  {
   "cell_type": "code",
   "execution_count": 12,
   "metadata": {},
   "outputs": [
    {
     "name": "stdout",
     "output_type": "stream",
     "text": [
      "Name:  EHat (TC2007)\n",
      "Type:  <class 'scipy.sparse.csr.csr_matrix'>\n",
      "Shape:  (126, 75757)\n",
      "Size:  1122\n",
      "Min/Max:  1.3558653515876443e-09 0.44439213869444444\n",
      "Name:  E (TC2007)\n",
      "Type:  <class 'scipy.sparse.csr.csr_matrix'>\n",
      "Shape:  (126, 75757)\n",
      "Size:  1122\n",
      "Min/Max:  2.7117307031752892e-08 8.8878427738889\n",
      "Name:  EHat (PetIBM)\n",
      "Type:  <class 'scipy.sparse.csr.csr_matrix'>\n",
      "Shape:  (126, 75757)\n",
      "Size:  1122\n",
      "Min/Max:  1.355865351587645e-09 0.44439213869444516\n"
     ]
    }
   ],
   "source": [
    "# Assemble interpolation operator as in Taira & Colonius (2007).\n",
    "alpha = dx * dy\n",
    "EHat = alpha * Op\n",
    "pyibm.print_matrix_info(EHat, name='EHat (TC2007)')\n",
    "\n",
    "# Assemble normalized interpolation (Taira & Colonius, 2007).\n",
    "E = EHat @ RInv\n",
    "pyibm.print_matrix_info(E, name='E (TC2007)')\n",
    "\n",
    "# Assemble interpolation operator as in decoupled IBPM of PetIBM.\n",
    "EHat2 = Op @ R @ MHat\n",
    "pyibm.print_matrix_info(EHat2, name='EHat (PetIBM)')\n",
    "\n",
    "# Check the two operators are the same.\n",
    "assert numpy.all((EHat - EHat2).data < 1e-12)"
   ]
  },
  {
   "cell_type": "code",
   "execution_count": 13,
   "metadata": {},
   "outputs": [
    {
     "name": "stdout",
     "output_type": "stream",
     "text": [
      "Name:  HHat (TC2007)\n",
      "Type:  <class 'scipy.sparse.csr.csr_matrix'>\n",
      "Shape:  (75757, 126)\n",
      "Size:  1122\n",
      "Min/Max:  2.7033723714615463e-08 8.86044789355038\n",
      "Name:  H (TC2007)\n",
      "Type:  <class 'scipy.sparse.csr.csr_matrix'>\n",
      "Shape:  (75757, 126)\n",
      "Size:  1122\n",
      "Min/Max:  1.3516861857307743e-09 0.44302239467751936\n",
      "Name:  HHat (PetIBM)\n",
      "Type:  <class 'scipy.sparse.csr.csr_matrix'>\n",
      "Shape:  (75757, 126)\n",
      "Size:  1122\n",
      "Min/Max:  5.423461406350576e-07 177.75685547777775\n"
     ]
    }
   ],
   "source": [
    "# Assemble spreading operator (Taira & Colonius, 2007).\n",
    "p1, p2 = (body.x[0], body.y[0]), (body.x[1], body.y[1])\n",
    "ds = math.sqrt((p1[0] - p2[0])**2 + (p1[1] - p2[1])**2)\n",
    "beta = ds\n",
    "HHat = beta / alpha * csr_matrix(EHat.T)\n",
    "pyibm.print_matrix_info(HHat, name='HHat (TC2007)')\n",
    "\n",
    "# $H = \\hat{M} \\hat{H}$ (Taira & Colonius, 2007).\n",
    "H = MHat @ HHat\n",
    "pyibm.print_matrix_info(H, name='H (TC2007)')\n",
    "\n",
    "# Assemble spreading operator as in decoupled IBPM of PetIBM.\n",
    "# (Note: surface area of markers are absorbed in the unknown.)\n",
    "HHat2 = csr_matrix(Op.T)\n",
    "pyibm.print_matrix_info(HHat2, name='HHat (PetIBM)')"
   ]
  },
  {
   "cell_type": "code",
   "execution_count": 14,
   "metadata": {},
   "outputs": [],
   "source": [
    "# Check that the velocity is correctly interpolated onto the boundary.\n",
    "a, b = 2.2, -1.1\n",
    "ux = a * numpy.ones(gridx.size)\n",
    "uy = b * numpy.ones(gridy.size)\n",
    "u = numpy.concatenate((ux, uy))\n",
    "\n",
    "U = EHat @ u\n",
    "Ux, Uy = U[::body.ndim], U[1::body.ndim]\n",
    "\n",
    "assert numpy.all(Ux - a < 1e-12)\n",
    "assert numpy.all(Uy - b < 1e-12)"
   ]
  },
  {
   "cell_type": "code",
   "execution_count": 15,
   "metadata": {},
   "outputs": [],
   "source": [
    "# Check total Lagrangian forces is conserved after spreading.\n",
    "a, b = 2.2, -1.1\n",
    "Fx = a * numpy.ones(body.size)\n",
    "Fy = b * numpy.ones(body.size)\n",
    "F = numpy.empty(body.ndim * body.size)\n",
    "F[::body.ndim], F[1::body.ndim] = Fx, Fy\n",
    "\n",
    "f = HHat @ F\n",
    "fx, fy = f[:gridx.size], f[gridx.size:]\n",
    "\n",
    "assert abs(numpy.sum(Fx) * beta - numpy.sum(fx) * alpha) < 1e-12\n",
    "assert abs(numpy.sum(Fy) * beta - numpy.sum(fy) * alpha) < 1e-12"
   ]
  },
  {
   "cell_type": "code",
   "execution_count": 16,
   "metadata": {},
   "outputs": [
    {
     "data": {
      "image/png": "[encoded data removed]",
      "text/plain": [
       "<Figure size 576x576 with 2 Axes>"
      ]
     },
     "metadata": {
      "needs_background": "light"
     },
     "output_type": "display_data"
    }
   ],
   "source": [
    "plot_contourf(fx.reshape(gridx.shape), gridx, body=None,\n",
    "              axis_lim=(-2.0, 2.0, -2.0, 2.0),\n",
    "              show_grid=False);"
   ]
  },
  {
   "cell_type": "markdown",
   "metadata": {},
   "source": [
    "## Assemble LHS operator of velocity system"
   ]
  },
  {
   "cell_type": "code",
   "execution_count": 17,
   "metadata": {},
   "outputs": [
    {
     "name": "stdout",
     "output_type": "stream",
     "text": [
      "Name:  LHat\n",
      "Type:  <class 'scipy.sparse.csr.csr_matrix'>\n",
      "Shape:  (75757, 75757)\n",
      "Size:  377193\n",
      "Symmetric:  False\n",
      "Min/Max:  -1600.0000000000057 400.00000000000193\n",
      "Name:  L (TC2007)\n",
      "Type:  <class 'scipy.sparse.csr.csr_matrix'>\n",
      "Shape:  (75757, 75757)\n",
      "Size:  377193\n",
      "Symmetric:  True\n",
      "Min/Max:  -9430.30712708833 4680.635036422563\n"
     ]
    }
   ],
   "source": [
    "# Assemble the Laplacian operator.\n",
    "LHat = pyibm.assemble_LHat(gridx, gridy)\n",
    "pyibm.print_matrix_info(LHat, name='LHat')\n",
    "\n",
    "# $L = \\hat{M} \\hat{L} R^{-1}$ (Taira & Colonius, 2007). \n",
    "L = MHat @ LHat @ RInv\n",
    "pyibm.print_matrix_info(L, name='L (TC2007)')"
   ]
  },
  {
   "cell_type": "code",
   "execution_count": 18,
   "metadata": {},
   "outputs": [
    {
     "name": "stdout",
     "output_type": "stream",
     "text": [
      "Name:  AHat\n",
      "Type:  <class 'scipy.sparse.csr.csr_matrix'>\n",
      "Shape:  (75757, 75757)\n",
      "Size:  377193\n",
      "Symmetric:  False\n",
      "Min/Max:  -2.0000000000000098 108.00000000000003\n",
      "Name:  A (TC2007)\n",
      "Type:  <class 'scipy.sparse.csr.csr_matrix'>\n",
      "Shape:  (75757, 75757)\n",
      "Size:  377193\n",
      "Symmetric:  True\n",
      "Min/Max:  -23.403175182112815 1217.3102947410819\n"
     ]
    }
   ],
   "source": [
    "# Assemble the implicit operator for the velocity system.\n",
    "dt = 0.01  # time-step size\n",
    "I = identity(gridx.size + gridy.size)\n",
    "Re = 100.0  # Reynolds number\n",
    "a_I = 0.5  # implicit coefficient of Crank-Nicolson scheme\n",
    "AHat = 1 / dt * I - a_I / Re * LHat\n",
    "pyibm.print_matrix_info(AHat, name='AHat')\n",
    "\n",
    "# $A = \\hat{M} \\hat{A} R^{-1}$ (Taira & Colonius, 2007).\n",
    "A = MHat @ AHat @ RInv\n",
    "pyibm.print_matrix_info(A, name='A (TC2007)')"
   ]
  },
  {
   "cell_type": "code",
   "execution_count": 19,
   "metadata": {},
   "outputs": [
    {
     "name": "stdout",
     "output_type": "stream",
     "text": [
      "8.38544701963025 1263.8999811078786 150.72541489429258\n"
     ]
    },
    {
     "data": {
      "text/plain": [
       "True"
      ]
     },
     "execution_count": 19,
     "metadata": {},
     "output_type": "execute_result"
    }
   ],
   "source": [
    "# Check if A is SPD.\n",
    "lambda_min ,lambda_max, cond = pyibm.condition_number(A)\n",
    "print(lambda_min, lambda_max, cond)\n",
    "lambda_min > 0"
   ]
  },
  {
   "cell_type": "markdown",
   "metadata": {},
   "source": [
    "## Assemble Poisson operator"
   ]
  },
  {
   "cell_type": "code",
   "execution_count": 20,
   "metadata": {},
   "outputs": [
    {
     "name": "stdout",
     "output_type": "stream",
     "text": [
      "Name:  B1\n",
      "Type:  <class 'scipy.sparse.csr.csr_matrix'>\n",
      "Shape:  (75757, 75757)\n",
      "Size:  75757\n",
      "Symmetric:  True\n",
      "Min/Max:  0.01 0.01\n",
      "Condition number:  (0.009999999999999998, 0.010000000000000002, 1.0000000000000004)\n"
     ]
    }
   ],
   "source": [
    "N = 1  # order of Taylor series truncation\n",
    "BN = pyibm.assemble_BN(gridx, gridy, dt=dt, N=N, L=L, M=M)\n",
    "pyibm.print_matrix_info(BN, name=f'B{N}')\n",
    "print('Condition number: ', pyibm.condition_number(BN))"
   ]
  },
  {
   "cell_type": "code",
   "execution_count": 21,
   "metadata": {},
   "outputs": [
    {
     "name": "stdout",
     "output_type": "stream",
     "text": [
      "Name:  QTBNQ (TC2007)\n",
      "Type:  <class 'scipy.sparse.csr.csr_matrix'>\n",
      "Shape:  (38204, 38204)\n",
      "Size:  193292\n",
      "Symmetric:  True\n",
      "Min/Max:  -0.07685268464407023 1.0000000000000144\n",
      "Condition number:  (1.7903942593087948e-19, 2.0336518425851056, 1.1358681653560615e+19)\n"
     ]
    }
   ],
   "source": [
    "# Assemble QTBNQ as in Taira & Colonius (2007).\n",
    "Q = hstack([G, E.T])\n",
    "QTBNQ = Q.T @ BN @ Q\n",
    "pyibm.print_matrix_info(QTBNQ, name='QTBNQ (TC2007)')\n",
    "print('Condition number: ', pyibm.condition_number(QTBNQ))"
   ]
  },
  {
   "cell_type": "code",
   "execution_count": 22,
   "metadata": {},
   "outputs": [
    {
     "name": "stdout",
     "output_type": "stream",
     "text": [
      "Name:  DBNG\n",
      "Type:  <class 'scipy.sparse.csr.csr_matrix'>\n",
      "Shape:  (38078, 38078)\n",
      "Size:  189592\n",
      "Symmetric:  True\n",
      "Min/Max:  -0.04 0.01\n",
      "Condition number:  (3.90219390027807e-19, -0.07999434733667048, -2.049983916252088e+17)\n"
     ]
    }
   ],
   "source": [
    "# Assemble Poisson operator.\n",
    "DBNG = D @ BN @ G\n",
    "pyibm.print_matrix_info(DBNG, name='DBNG')\n",
    "print('Condition number: ', pyibm.condition_number(DBNG))"
   ]
  },
  {
   "cell_type": "code",
   "execution_count": 23,
   "metadata": {},
   "outputs": [
    {
     "name": "stdout",
     "output_type": "stream",
     "text": [
      "Name:  DBNG (Hat)\n",
      "Type:  <class 'scipy.sparse.csr.csr_matrix'>\n",
      "Shape:  (38078, 38078)\n",
      "Size:  189592\n",
      "Symmetric:  True\n",
      "Min/Max:  -0.23947519459473085 0.11931030484998661\n",
      "Condition number:  (-6.462275462665142e-20, -0.4772577006555944, 7.385288717772578e+18)\n"
     ]
    }
   ],
   "source": [
    "# Assemble Poisson operator as in decoupled IBPM of PetIBM.\n",
    "DBNG = DHat @ BN @ GHat\n",
    "pyibm.print_matrix_info(DBNG, name='DBNG (Hat)')\n",
    "print('Condition number: ', pyibm.condition_number(DBNG))"
   ]
  },
  {
   "cell_type": "markdown",
   "metadata": {},
   "source": [
    "## LHS operator of system for forces"
   ]
  },
  {
   "cell_type": "code",
   "execution_count": 24,
   "metadata": {},
   "outputs": [
    {
     "name": "stdout",
     "output_type": "stream",
     "text": [
      "\n",
      "Expansion order:  1\n",
      "Name:  EBNH\n",
      "Type:  <class 'scipy.sparse.csr.csr_matrix'>\n",
      "Shape:  (126, 126)\n",
      "Size:  708\n",
      "Symmetric:  True\n",
      "Min/Max:  7.736119136478667e-10 0.0498458856606977\n",
      "Condition number:  (0.0015676116595306935, 0.10099440370035118, 64.42565228851804)\n",
      "\n",
      "Expansion order:  2\n",
      "Name:  EBNH\n",
      "Type:  <class 'scipy.sparse.csr.csr_matrix'>\n",
      "Shape:  (126, 126)\n",
      "Size:  952\n",
      "Symmetric:  True\n",
      "Min/Max:  -0.17168095739990732 0.050684697873712985\n",
      "Condition number:  (-0.01613312534232113, -0.24970445151569762, 15.477748186872496)\n",
      "\n",
      "Expansion order:  3\n",
      "Name:  EBNH\n",
      "Type:  <class 'scipy.sparse.csr.csr_matrix'>\n",
      "Shape:  (126, 126)\n",
      "Size:  1192\n",
      "Symmetric:  True\n",
      "Min/Max:  -0.38041806748164136 1.3395449207880148\n",
      "Condition number:  (0.18750436375419088, 1.7598735584334961, 9.385773873191585)\n"
     ]
    }
   ],
   "source": [
    "# Condition number when using E and H.\n",
    "N_all = [1, 2, 3]\n",
    "for N in N_all:\n",
    "    print('\\nExpansion order: ', N)\n",
    "    BN = pyibm.assemble_BN(gridx, gridy, dt=dt, N=N, L=L, M=M)\n",
    "    EBNH = E @ BN @ H\n",
    "    pyibm.print_matrix_info(EBNH, name='EBNH')\n",
    "    print('Condition number: ', pyibm.condition_number(EBNH))"
   ]
  },
  {
   "cell_type": "markdown",
   "metadata": {},
   "source": [
    "Condition number not really changing at we use a high-order expansion of the approximate inverse."
   ]
  },
  {
   "cell_type": "code",
   "execution_count": 25,
   "metadata": {},
   "outputs": [
    {
     "name": "stdout",
     "output_type": "stream",
     "text": [
      "\n",
      "Expansion order:  1\n",
      "Name:  EBNH (Hat)\n",
      "Type:  <class 'scipy.sparse.csr.csr_matrix'>\n",
      "Shape:  (126, 126)\n",
      "Size:  708\n",
      "Symmetric:  True\n",
      "Min/Max:  7.736119136478667e-10 0.04984588566069769\n",
      "Condition number:  (0.0015676116595306937, 0.10099440370035104, 64.42565228851794)\n",
      "\n",
      "Expansion order:  2\n",
      "Name:  EBNH (Hat)\n",
      "Type:  <class 'scipy.sparse.csr.csr_matrix'>\n",
      "Shape:  (126, 126)\n",
      "Size:  952\n",
      "Symmetric:  True\n",
      "Min/Max:  -88.56089133858104 20.272418358853084\n",
      "Condition number:  (-7.086919615739594, -124.36908491196974, 17.549103370067012)\n",
      "\n",
      "Expansion order:  3\n",
      "Name:  EBNH (Hat)\n",
      "Type:  <class 'scipy.sparse.csr.csr_matrix'>\n",
      "Shape:  (126, 126)\n",
      "Size:  1192\n",
      "Symmetric:  False\n",
      "Min/Max:  -3428.549704483995 12001.246134164761\n",
      "Condition number:  (1623.3859336521868, 15870.258427668145, 9.776023124682546)\n"
     ]
    }
   ],
   "source": [
    "# Condition number when using EHat and HHat.\n",
    "N_all = [1, 2, 3]\n",
    "for N in N_all:\n",
    "    print('\\nExpansion order: ', N)\n",
    "    BN = pyibm.assemble_BN(gridx, gridy, dt=dt, N=N, L=LHat, M=MHat)\n",
    "    EBNH = EHat @ BN @ HHat\n",
    "    pyibm.print_matrix_info(EBNH, name='EBNH (Hat)')\n",
    "    print('Condition number: ', pyibm.condition_number(EBNH))"
   ]
  },
  {
   "cell_type": "markdown",
   "metadata": {},
   "source": [
    "Again, no real change in the condition number.\n",
    "So, what's the advantage of scaling `EHat` and `HHat`."
   ]
  },
  {
   "cell_type": "code",
   "execution_count": 26,
   "metadata": {},
   "outputs": [
    {
     "name": "stdout",
     "output_type": "stream",
     "text": [
      "\n",
      "Expansion order:  1\n",
      "Name:  EBNH (PetIBM)\n",
      "Type:  <class 'scipy.sparse.csr.csr_matrix'>\n",
      "Shape:  (126, 126)\n",
      "Size:  708\n",
      "Symmetric:  True\n",
      "Min/Max:  1.552007559688825e-08 1.0000000000000093\n",
      "Condition number:  (0.031449168547259626, 2.026133197588744, 64.42565228851797)\n",
      "\n",
      "Expansion order:  2\n",
      "Name:  EBNH (PetIBM)\n",
      "Type:  <class 'scipy.sparse.csr.csr_matrix'>\n",
      "Shape:  (126, 126)\n",
      "Size:  952\n",
      "Symmetric:  True\n",
      "Min/Max:  -1776.6941075421637 406.7019391900899\n",
      "Condition number:  (-142.17662143633112, -2495.072226393052, 17.549103370066955)\n",
      "\n",
      "Expansion order:  3\n",
      "Name:  EBNH (PetIBM)\n",
      "Type:  <class 'scipy.sparse.csr.csr_matrix'>\n",
      "Shape:  (126, 126)\n",
      "Size:  1192\n",
      "Symmetric:  False\n",
      "Min/Max:  -68783.0030310275 240767.03573606233\n",
      "Condition number:  (32568.102906278753, 318386.5271388207, 9.776023124682508)\n"
     ]
    }
   ],
   "source": [
    "# Condition number of EBNH implemented in PetIBM.\n",
    "# How is it affected by the Taylor expansion order?\n",
    "N_all = [1, 2, 3]\n",
    "for N in N_all:\n",
    "    print('\\nExpansion order: ', N)\n",
    "    BN = pyibm.assemble_BN(gridx, gridy, dt=dt, N=N, L=LHat, M=MHat)\n",
    "    EBNH = EHat2 @ BN @ HHat2\n",
    "    pyibm.print_matrix_info(EBNH, name='EBNH (PetIBM)')\n",
    "    print('Condition number: ', pyibm.condition_number(EBNH))"
   ]
  },
  {
   "cell_type": "markdown",
   "metadata": {},
   "source": [
    "The condition number of the operator `EBNH` is not significantly affected by the order of the Taylor expansion used to compute the inverse of the implicit velocity operator."
   ]
  },
  {
   "cell_type": "code",
   "execution_count": null,
   "metadata": {},
   "outputs": [],
   "source": []
  }
 ],
 "metadata": {
  "kernelspec": {
   "display_name": "Python 3 (PyIBM)",
   "language": "python",
   "name": "py36-pyibm"
  },
  "language_info": {
   "codemirror_mode": {
    "name": "ipython",
    "version": 3
   },
   "file_extension": ".py",
   "mimetype": "text/x-python",
   "name": "python",
   "nbconvert_exporter": "python",
   "pygments_lexer": "ipython3",
   "version": "3.6.10"
  }
 },
 "nbformat": 4,
 "nbformat_minor": 2
}
