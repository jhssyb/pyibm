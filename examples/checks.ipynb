{
 "cells": [
  {
   "cell_type": "markdown",
   "metadata": {},
   "source": [
    "* Check if the implicit velocity operator $A$ is symmetric positive-definite.\n",
    "* Check if there is any advantage in formulating the operators such that $D = -G^T$ and $H f = -E^T \\tilde{f}$."
   ]
  },
  {
   "cell_type": "code",
   "execution_count": null,
   "metadata": {},
   "outputs": [],
   "source": [
    "import numpy\n",
    "from scipy.sparse import csc_matrix, csr_matrix, hstack, identity\n",
    "from scipy.sparse.linalg import inv\n",
    "\n",
    "import pyibm\n",
    "\n",
    "from helper import *"
   ]
  },
  {
   "cell_type": "code",
   "execution_count": null,
   "metadata": {},
   "outputs": [],
   "source": [
    "%matplotlib qt"
   ]
  },
  {
   "cell_type": "code",
   "execution_count": null,
   "metadata": {},
   "outputs": [],
   "source": [
    "pyibm.__version__"
   ]
  },
  {
   "cell_type": "code",
   "execution_count": null,
   "metadata": {},
   "outputs": [],
   "source": [
    "xlim, ylim = (-15.0, 15.0), (-15.0, 15.0)\n",
    "xbox, ybox = (-0.75, 0.75), (-0.75, 0.75)\n",
    "dx, dy = 0.05, 0.05  # grid spacings in the uniform region\n",
    "\n",
    "config = {'x': {'start': xlim[0],\n",
    "                'segments': [{'end': xbox[0],\n",
    "                              'width': dx,\n",
    "                              'stretching': 1.03,\n",
    "                              'reverse': True},\n",
    "                             {'end': xbox[1],\n",
    "                              'width': dx,\n",
    "                              'stretching': 1.0},\n",
    "                             {'end': xlim[1],\n",
    "                              'width': dx,\n",
    "                              'stretching': 1.01}]},\n",
    "          'y': {'start': ylim[0],\n",
    "                'segments': [{'end': ybox[0],\n",
    "                              'width': dy,\n",
    "                              'stretching': 1.04,\n",
    "                              'reverse': True},\n",
    "                             {'end': ybox[1],\n",
    "                              'width': dy,\n",
    "                              'stretching': 1.0},\n",
    "                             {'end': ylim[1],\n",
    "                              'width': dy,\n",
    "                              'stretching': 1.04}]}}\n",
    "\n",
    "# Comment when not testing.\n",
    "# config = dict(x=dict(start=-2.0, end=2.0, num_cells=20),\n",
    "#               y=dict(start=-2.0, end=2.0, num_cells=20))\n",
    "# dx, dy = 4.0 / 20, 4.0 / 20\n",
    "\n",
    "grid = pyibm.GridBase(config=config)\n",
    "gridc = pyibm.GridCellCentered(grid=grid)\n",
    "gridx = pyibm.GridFaceX(grid=grid)\n",
    "gridy = pyibm.GridFaceY(grid=grid)"
   ]
  },
  {
   "cell_type": "code",
   "execution_count": null,
   "metadata": {},
   "outputs": [],
   "source": [
    "print(gridc)\n",
    "print(gridx)\n",
    "print(gridy)"
   ]
  },
  {
   "cell_type": "code",
   "execution_count": null,
   "metadata": {},
   "outputs": [],
   "source": [
    "delta_kernel = pyibm.delta_roma_et_al_1999\n",
    "delta_kernel_size = 2"
   ]
  },
  {
   "cell_type": "code",
   "execution_count": null,
   "metadata": {},
   "outputs": [],
   "source": [
    "GHat = pyibm.assemble_GHat(gridc, gridx, gridy)\n",
    "DHat = pyibm.assemble_DHat(gridc, gridx, gridy)\n",
    "\n",
    "print('GHat:')\n",
    "print_matrix_info(GHat)\n",
    "print('DHat:')\n",
    "print_matrix_info(DHat)"
   ]
  },
  {
   "cell_type": "code",
   "execution_count": null,
   "metadata": {},
   "outputs": [],
   "source": [
    "MHat = pyibm.assemble_MHat(gridx, gridy)\n",
    "R = pyibm.assemble_R(gridx, gridy)\n",
    "RInv = pyibm.diagonal_inv(R)\n",
    "M = MHat @ RInv"
   ]
  },
  {
   "cell_type": "code",
   "execution_count": null,
   "metadata": {},
   "outputs": [],
   "source": [
    "G = MHat @ GHat\n",
    "D = DHat @ RInv\n",
    "\n",
    "print('G:')\n",
    "print_matrix_info(G)\n",
    "print('D:')\n",
    "print_matrix_info(D)\n",
    "\n",
    "# Check if divergence is the opposite\n",
    "# of the transpose of the gradient.\n",
    "K = D + G.T\n",
    "K = K.multiply(abs(K) > 1e-12) # remove extremely small values\n",
    "assert K.nnz == 0"
   ]
  },
  {
   "cell_type": "markdown",
   "metadata": {},
   "source": [
    "Indeed, we have $D = -G^T$ with their elements equal to $+1$ or $-1$."
   ]
  },
  {
   "cell_type": "code",
   "execution_count": null,
   "metadata": {},
   "outputs": [],
   "source": [
    "radius = 0.5\n",
    "xc, yc = 0.0, 0.0\n",
    "ds = dx\n",
    "N = int(round(2 * numpy.pi * radius / ds))\n",
    "epsilon = 0.0\n",
    "theta = numpy.linspace(0.0, 2 * numpy.pi, num=N + 1)[:-1] + epsilon\n",
    "x, y = xc + radius * numpy.cos(theta), yc + radius * numpy.sin(theta)\n",
    "body = pyibm.Body(x, y, grid=gridc)\n",
    "body"
   ]
  },
  {
   "cell_type": "code",
   "execution_count": null,
   "metadata": {},
   "outputs": [],
   "source": [
    "Op = pyibm.assemble_delta(body, gridc, gridx, gridy,\n",
    "                          kernel=delta_kernel,\n",
    "                          kernel_size=delta_kernel_size)\n",
    "print_matrix_info(Op)\n",
    "\n",
    "alpha = dx * dy\n",
    "EHat = alpha * Op\n",
    "\n",
    "# Another way to compute EHat.\n",
    "# Interpolation operator implemented in the decoupled IBPM of PetIBM.\n",
    "EHat2 = Op @ R @ MHat\n",
    "assert numpy.all((EHat - EHat2).data < 1e-12)\n",
    "\n",
    "E = EHat @ RInv\n",
    "\n",
    "beta = ds\n",
    "HHat = beta / alpha * csr_matrix(EHat.T)\n",
    "H = MHat @ HHat\n",
    "\n",
    "# Spreading operator implemented in the decoupled IBPM of PetIBM.\n",
    "HHat2 = csr_matrix(Op.T)"
   ]
  },
  {
   "cell_type": "code",
   "execution_count": null,
   "metadata": {},
   "outputs": [],
   "source": [
    "ux = 2 * numpy.ones(gridx.size)\n",
    "uy = numpy.ones(gridy.size)\n",
    "u = numpy.concatenate((ux, uy))\n",
    "\n",
    "U = EHat @ u\n",
    "Ux, Uy = U[::body.ndim], U[1::body.ndim]\n",
    "\n",
    "assert numpy.all(Ux - 2 < 1e-12)\n",
    "assert numpy.all(Uy - 1 < 1e-12)"
   ]
  },
  {
   "cell_type": "code",
   "execution_count": null,
   "metadata": {},
   "outputs": [],
   "source": [
    "Fx = 2 * numpy.ones(body.size)\n",
    "Fy = numpy.ones(body.size)\n",
    "F = numpy.empty(body.ndim * body.size)\n",
    "F[::body.ndim], F[1::body.ndim] = Fx, Fy\n",
    "\n",
    "f = HHat @ F\n",
    "fx, fy = f[:gridx.size], f[gridx.size:]\n",
    "\n",
    "F2 = EHat @ f\n",
    "Fx2, Fy2 = F2[::body.ndim], F2[1::body.ndim]\n",
    "\n",
    "\n",
    "print(numpy.sum(Fx) * beta, numpy.sum(Fy) * beta)\n",
    "print(numpy.sum(fx) * alpha, numpy.sum(fy) * alpha)\n",
    "print(numpy.sum(Fx2) * beta, numpy.sum(Fy2) * beta)"
   ]
  },
  {
   "cell_type": "code",
   "execution_count": null,
   "metadata": {},
   "outputs": [],
   "source": [
    "plot_contourf(fx.reshape(gridx.shape), gridx, body=body,\n",
    "              axis_lim=(-2.0, 2.0, -2.0, 2.0),\n",
    "              show_grid=True);"
   ]
  },
  {
   "cell_type": "code",
   "execution_count": null,
   "metadata": {},
   "outputs": [],
   "source": [
    "B = HHat @ EHat\n",
    "print_matrix_info(B)\n",
    "# plot_matrix(B);"
   ]
  },
  {
   "cell_type": "code",
   "execution_count": null,
   "metadata": {},
   "outputs": [],
   "source": [
    "Re = 100.0\n",
    "LHat = 1 / Re * pyibm.assemble_LHat(gridx, gridy)\n",
    "print_matrix_info(LHat)"
   ]
  },
  {
   "cell_type": "code",
   "execution_count": null,
   "metadata": {},
   "outputs": [],
   "source": [
    "L = MHat @ LHat @ RInv\n",
    "\n",
    "dt = 0.01\n",
    "I = identity(gridx.size + gridy.size)\n",
    "\n",
    "alpha_implicit = 0.5\n",
    "AHat = 1 / dt * I - alpha_implicit * LHat\n",
    "\n",
    "A = MHat @ AHat @ RInv\n",
    "is_symmetric(A)"
   ]
  },
  {
   "cell_type": "code",
   "execution_count": null,
   "metadata": {},
   "outputs": [],
   "source": [
    "# Check if A is SPD.\n",
    "# lambda_min ,lambda_max, cond = condition_number(A)\n",
    "# lambda_min > 0"
   ]
  },
  {
   "cell_type": "code",
   "execution_count": null,
   "metadata": {},
   "outputs": [],
   "source": [
    "BN = pyibm.assemble_BN(gridx, gridy, dt=dt, N=3, L=L, M=M)\n",
    "print_matrix_info(BN)\n",
    "# print('Condition number: ', condition_number(BN))"
   ]
  },
  {
   "cell_type": "code",
   "execution_count": null,
   "metadata": {},
   "outputs": [],
   "source": [
    "Q = hstack([G, E.T])\n",
    "print_matrix_info(Q)"
   ]
  },
  {
   "cell_type": "code",
   "execution_count": null,
   "metadata": {},
   "outputs": [],
   "source": [
    "QTBNQ = Q.T @ BN @ Q\n",
    "print_matrix_info(QTBNQ)\n",
    "# print('Condition number: ', condition_number(QTBNQ))\n",
    "# plot_matrix(QTBNQ, cmap='viridis')\n",
    "is_symmetric(QTBNQ)"
   ]
  },
  {
   "cell_type": "code",
   "execution_count": null,
   "metadata": {},
   "outputs": [],
   "source": [
    "GTBNG = G.T @ BN @ G\n",
    "print_matrix_info(GTBNG)\n",
    "# print('Condition number: ', condition_number(GTBNG))\n",
    "# plot_matrix(GTBNG, cmap='viridis')\n",
    "is_symmetric(GTBNG)"
   ]
  },
  {
   "cell_type": "code",
   "execution_count": null,
   "metadata": {},
   "outputs": [],
   "source": [
    "DBNG = D @ BN @ G\n",
    "print_matrix_info(DBNG)\n",
    "is_symmetric(DBNG)"
   ]
  },
  {
   "cell_type": "code",
   "execution_count": null,
   "metadata": {},
   "outputs": [],
   "source": [
    "DBNG = DHat @ BN @ GHat\n",
    "print_matrix_info(DBNG)\n",
    "is_symmetric(DBNG)"
   ]
  },
  {
   "cell_type": "code",
   "execution_count": null,
   "metadata": {},
   "outputs": [],
   "source": [
    "K = DBNG - DBNG.T\n",
    "K = K.multiply(abs(K) > 1e-3)\n",
    "print(K.nnz)\n",
    "# plot_matrix(K, cmap='viridis_r')"
   ]
  },
  {
   "cell_type": "markdown",
   "metadata": {},
   "source": [
    "`DBNG` is not symmetric.\n",
    "Could it be a bug in my code?\n",
    "It may be because of not using ghost cells outside the external boundaries."
   ]
  },
  {
   "cell_type": "code",
   "execution_count": null,
   "metadata": {},
   "outputs": [],
   "source": [
    "# Condition number when using E and H.\n",
    "for i in range(1, 3 + 1):\n",
    "    print('Expansion order: ', i)\n",
    "    BN = pyibm.assemble_BN(gridx, gridy, dt=dt, N=i, L=L, M=M)\n",
    "    EBNH = E @ BN @ H\n",
    "    print_matrix_info(EBNH)\n",
    "    print(condition_number(EBNH))"
   ]
  },
  {
   "cell_type": "markdown",
   "metadata": {},
   "source": [
    "Condition number not really changing at we use a high-order expansion of the approximate inverse."
   ]
  },
  {
   "cell_type": "code",
   "execution_count": null,
   "metadata": {},
   "outputs": [],
   "source": [
    "# Condition number when using EHat and HHat.\n",
    "for i in range(1, 3 + 1):\n",
    "    print('Expansion order: ', i)\n",
    "    BN = pyibm.assemble_BN(gridx, gridy, dt=dt, N=i, L=LHat, M=MHat)\n",
    "    EBNH = EHat @ BN @ HHat\n",
    "    print_matrix_info(EBNH)\n",
    "    print(condition_number(EBNH))"
   ]
  },
  {
   "cell_type": "markdown",
   "metadata": {},
   "source": [
    "Again, no real change in the condition number.\n",
    "So, what's the advantage of scaling `EHat` and `HHat`."
   ]
  },
  {
   "cell_type": "code",
   "execution_count": null,
   "metadata": {},
   "outputs": [],
   "source": [
    "# Condition number of EBNH implemented in PetIBM.\n",
    "# How is it affected by the Taylor expansion order?\n",
    "for i in range(1, 3 + 1):\n",
    "    print('Expansion order: ', i)\n",
    "    BN = pyibm.assemble_BN(gridx, gridy, dt=dt, N=i, L=LHat, M=MHat)\n",
    "    EBNH = EHat2 @ BN @ HHat2\n",
    "    print_matrix_info(EBNH)\n",
    "    print(condition_number(EBNH))\n",
    "    # plot_matrix(EBNH_t, cmap='viridis');"
   ]
  },
  {
   "cell_type": "markdown",
   "metadata": {},
   "source": [
    "The condition number of the operator `EBNH` is not significantly affected by the order of the Taylor expansion used to compute the inverse of the implicit velocity operator."
   ]
  },
  {
   "cell_type": "code",
   "execution_count": null,
   "metadata": {},
   "outputs": [],
   "source": [
    "# Refining the Lagrnagian mesh for a fix Eulerian grid.\n",
    "# How does it affect the condition number of EBNH?\n",
    "for i in range(1, 4 + 1):\n",
    "    print('Resolution ratio: ', i)\n",
    "    ds = dx / i\n",
    "    N = int(round(2 * numpy.pi * radius / ds))\n",
    "    theta = numpy.linspace(0.0, 2 * numpy.pi, num=N + 1)[:-1]\n",
    "    x, y = xc + radius * numpy.cos(theta), yc + radius * numpy.sin(theta)\n",
    "    body = pyibm.Body(x, y, grid=gridc)\n",
    "    print(body)\n",
    "    Op = pyibm.assemble_delta(body, gridc, gridx, gridy,\n",
    "                              kernel=delta_kernel,\n",
    "                              kernel_size=delta_kernel_size)\n",
    "    EHat = Op @ R @ MHat\n",
    "    HHat = csr_matrix(Op.T)\n",
    "    BN = pyibm.assemble_BN(gridx, gridy, dt=dt, N=1, L=LHat, M=MHat)\n",
    "    EBNH = EHat @ BN @ HHat\n",
    "    print_matrix_info(EBNH)\n",
    "    print(condition_number(EBNH))\n",
    "    # plot_matrix(EBNH, cmap='viridis');"
   ]
  },
  {
   "cell_type": "markdown",
   "metadata": {},
   "source": [
    "The condition number of the operator `EBNH` explodes as we refine only the Lagrangian mesh while keeping the same back grid spacing."
   ]
  },
  {
   "cell_type": "code",
   "execution_count": null,
   "metadata": {},
   "outputs": [],
   "source": [
    "# Rotating the Lagrangian markers.\n",
    "# How does it affect the condition number of EBNH?\n",
    "num = 4\n",
    "for i in range(num):\n",
    "    print('Rotating case ', i)\n",
    "    ds = dx\n",
    "    N = int(round(2 * numpy.pi * radius / ds))\n",
    "    epsilon = i * numpy.radians(45.0) / num\n",
    "    theta = numpy.linspace(0.0, 2 * numpy.pi, num=N + 1)[:-1] + epsilon\n",
    "    x, y = xc + radius * numpy.cos(theta), yc + radius * numpy.sin(theta)\n",
    "    body = pyibm.Body(x, y, grid=gridc)\n",
    "    Op = pyibm.assemble_delta(body, gridc, gridx, gridy,\n",
    "                              kernel=delta_kernel,\n",
    "                              kernel_size=delta_kernel_size)\n",
    "    EHat = Op @ R @ MHat\n",
    "    HHat = csr_matrix(Op.T)\n",
    "    BN = pyibm.assemble_BN(gridx, gridy, dt=dt, N=3, L=LHat, M=MHat)\n",
    "    EBNH = EHat @ BN @ HHat\n",
    "    print_matrix_info(EBNH)\n",
    "    print(condition_number(EBNH))\n",
    "    # plot_matrix(EBNH, cmap='viridis');"
   ]
  },
  {
   "cell_type": "markdown",
   "metadata": {},
   "source": [
    "The condition number of the operator `EBNH` is not really influenced by the location of the markers on the surface."
   ]
  },
  {
   "cell_type": "code",
   "execution_count": null,
   "metadata": {},
   "outputs": [],
   "source": []
  }
 ],
 "metadata": {
  "kernelspec": {
   "display_name": "Python 3 (PyIBM)",
   "language": "python",
   "name": "py36-pyibm-dev"
  },
  "language_info": {
   "codemirror_mode": {
    "name": "ipython",
    "version": 3
   },
   "file_extension": ".py",
   "mimetype": "text/x-python",
   "name": "python",
   "nbconvert_exporter": "python",
   "pygments_lexer": "ipython3",
   "version": "3.6.8"
  }
 },
 "nbformat": 4,
 "nbformat_minor": 2
}
