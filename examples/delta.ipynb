{
 "cells": [
  {
   "cell_type": "code",
   "execution_count": null,
   "metadata": {},
   "outputs": [],
   "source": [
    "import numpy\n",
    "\n",
    "import pyibm\n",
    "\n",
    "from helper import *\n",
    "\n",
    "%matplotlib inline"
   ]
  },
  {
   "cell_type": "code",
   "execution_count": null,
   "metadata": {},
   "outputs": [],
   "source": [
    "pyibm.__version__"
   ]
  },
  {
   "cell_type": "code",
   "execution_count": null,
   "metadata": {},
   "outputs": [],
   "source": [
    "delta_kernel = pyibm.delta_peskin_2002\n",
    "delta_kernel_size = 4"
   ]
  },
  {
   "cell_type": "code",
   "execution_count": null,
   "metadata": {},
   "outputs": [],
   "source": [
    "config = dict(x=dict(start=-2.0, end=2.0, num_cells=20),\n",
    "              y=dict(start=-2.0, end=2.0, num_cells=20))\n",
    "grid = pyibm.GridBase(config=config)\n",
    "grid"
   ]
  },
  {
   "cell_type": "code",
   "execution_count": null,
   "metadata": {},
   "outputs": [],
   "source": [
    "gridc = pyibm.GridCellCentered(grid=grid)\n",
    "gridx = pyibm.GridFaceX(grid=grid)\n",
    "gridy = pyibm.GridFaceY(grid=grid)"
   ]
  },
  {
   "cell_type": "code",
   "execution_count": null,
   "metadata": {},
   "outputs": [],
   "source": [
    "GHat = pyibm.assemble_GHat(gridc, gridx, gridy)\n",
    "print_matrix_info(GHat)\n",
    "plot_matrix(GHat);"
   ]
  },
  {
   "cell_type": "code",
   "execution_count": null,
   "metadata": {},
   "outputs": [],
   "source": [
    "MHat = pyibm.assemble_MHat(gridx, gridy)\n",
    "print_matrix_info(MHat)\n",
    "plot_matrix(MHat, figsize=(3.0, 3.0));"
   ]
  },
  {
   "cell_type": "code",
   "execution_count": null,
   "metadata": {},
   "outputs": [],
   "source": [
    "G = MHat @ GHat\n",
    "print_matrix_info(G)\n",
    "plot_matrix(G);"
   ]
  },
  {
   "cell_type": "code",
   "execution_count": null,
   "metadata": {},
   "outputs": [],
   "source": [
    "DHat = pyibm.assemble_DHat(gridc, gridx, gridy)\n",
    "print_matrix_info(DHat)\n",
    "plot_matrix(DHat);"
   ]
  },
  {
   "cell_type": "code",
   "execution_count": null,
   "metadata": {},
   "outputs": [],
   "source": [
    "R = pyibm.assemble_R(gridx, gridy)\n",
    "print_matrix_info(R)\n",
    "plot_matrix(R, figsize=(3.0, 3.0));"
   ]
  },
  {
   "cell_type": "code",
   "execution_count": null,
   "metadata": {},
   "outputs": [],
   "source": [
    "RInv = pyibm.assemble_RInv(R)\n",
    "print_matrix_info(RInv)\n",
    "plot_matrix(RInv, figsize=(3.0, 3.0));"
   ]
  },
  {
   "cell_type": "code",
   "execution_count": null,
   "metadata": {},
   "outputs": [],
   "source": [
    "D = DHat @ RInv\n",
    "print_matrix_info(D)\n",
    "plot_matrix(D);"
   ]
  },
  {
   "cell_type": "code",
   "execution_count": null,
   "metadata": {},
   "outputs": [],
   "source": [
    "# Check if divergence of the opposite of the transpose of the gradient.\n",
    "A = D + G.T\n",
    "A = A.multiply(A > 1e-12)\n",
    "assert A.nnz == 0"
   ]
  },
  {
   "cell_type": "code",
   "execution_count": null,
   "metadata": {},
   "outputs": [],
   "source": [
    "radius = 0.5\n",
    "xc, yc = 0.0, 0.0\n",
    "ds = gridx.x.get_widths()[0]\n",
    "N = int(round(2 * numpy.pi * radius / ds))\n",
    "epsilon = 0.0\n",
    "theta = numpy.linspace(0.0, 2 * numpy.pi, num=N + 1)[:-1] + epsilon\n",
    "x, y = xc + radius * numpy.cos(theta), yc + radius * numpy.sin(theta)\n",
    "body = pyibm.Body(x, y, grid=gridc)\n",
    "body"
   ]
  },
  {
   "cell_type": "code",
   "execution_count": null,
   "metadata": {},
   "outputs": [],
   "source": [
    "Op = pyibm.assemble_delta(body, gridc, gridx, gridy,\n",
    "                          kernel=delta_kernel,\n",
    "                          kernel_size=delta_kernel_size)\n",
    "print_matrix_info(Op)\n",
    "plot_matrix(Op);"
   ]
  },
  {
   "cell_type": "code",
   "execution_count": null,
   "metadata": {},
   "outputs": [],
   "source": [
    "S = pyibm.assemble_surfaces(body)\n",
    "print_matrix_info(S)\n",
    "plot_matrix(S, figsize=(3.0, 3.0));"
   ]
  },
  {
   "cell_type": "code",
   "execution_count": null,
   "metadata": {},
   "outputs": [],
   "source": [
    "E = Op @ R @ MHat\n",
    "print_matrix_info(E)\n",
    "plot_matrix(E);"
   ]
  },
  {
   "cell_type": "code",
   "execution_count": null,
   "metadata": {},
   "outputs": [],
   "source": [
    "H = Op.T @ S\n",
    "print_matrix_info(H)\n",
    "plot_matrix(H);"
   ]
  },
  {
   "cell_type": "code",
   "execution_count": null,
   "metadata": {},
   "outputs": [],
   "source": [
    "ux = numpy.ones(gridx.size)\n",
    "uy = numpy.zeros(gridy.size)\n",
    "u = numpy.concatenate((ux, uy))\n",
    "Ub = E @ u\n",
    "print(Ub.shape)\n",
    "print(Ub)"
   ]
  },
  {
   "cell_type": "code",
   "execution_count": null,
   "metadata": {},
   "outputs": [],
   "source": [
    "Fx = numpy.ones(body.size)\n",
    "Fy = numpy.zeros(body.size)\n",
    "F = numpy.empty(body.ndim * body.size)\n",
    "F[::body.ndim], F[1::body.ndim] = Fx, Fy\n",
    "\n",
    "f = H @ F\n",
    "fx = f[:gridx.size].reshape(gridx.shape)\n",
    "fy = f[gridx.size:].reshape(gridy.shape)\n",
    "\n",
    "F2 = E @ f\n",
    "Fx2, Fy2 = F2[::body.ndim], F2[1::body.ndim]\n",
    "\n",
    "dS = body.ds\n",
    "dx = gridc.x.get_widths()[gridc.ijk(body.neighbors[0])[0]]\n",
    "dy = gridc.y.get_widths()[gridc.ijk(body.neighbors[0])[1]]\n",
    "dV = dx * dy\n",
    "\n",
    "print(numpy.sum(Fx) * dS, numpy.sum(Fy) * dS)\n",
    "print(numpy.sum(fx) * dV, numpy.sum(fy) * dV)\n",
    "print(numpy.sum(Fx2) * dS, numpy.sum(Fy2) * dS)"
   ]
  },
  {
   "cell_type": "code",
   "execution_count": null,
   "metadata": {},
   "outputs": [],
   "source": [
    "plot_contourf(fx, gridx, body, show_grid=False);"
   ]
  },
  {
   "cell_type": "code",
   "execution_count": null,
   "metadata": {},
   "outputs": [],
   "source": [
    "Re = 100.0\n",
    "LHat = 1 / Re * pyibm.assemble_LHat(gridx, gridy)\n",
    "L = MHat @ LHat @ RInv\n",
    "print_matrix_info(L)\n",
    "plot_matrix(L);"
   ]
  },
  {
   "cell_type": "code",
   "execution_count": null,
   "metadata": {},
   "outputs": [],
   "source": [
    "dt = 0.01\n",
    "alpha_implicit = 0.5\n",
    "M = MHat @ RInv\n",
    "A = 1 / dt * M - alpha_implicit * L\n",
    "print_matrix_info(A)\n",
    "plot_matrix(A);"
   ]
  },
  {
   "cell_type": "code",
   "execution_count": null,
   "metadata": {},
   "outputs": [],
   "source": [
    "MHatInv = pyibm.assemble_MHatInv(MHat)\n",
    "MInv = R @ MHatInv\n",
    "BN = pyibm.assemble_BN(gridx, gridy, dt=dt, N=1, L=L, MInv=MInv)\n",
    "print_matrix_info(BN)\n",
    "plot_matrix(BN);"
   ]
  },
  {
   "cell_type": "code",
   "execution_count": null,
   "metadata": {},
   "outputs": [],
   "source": [
    "DBNG = D @ BN @ G\n",
    "print_matrix_info(DBNG)\n",
    "plot_matrix(DBNG);"
   ]
  },
  {
   "cell_type": "code",
   "execution_count": null,
   "metadata": {},
   "outputs": [],
   "source": [
    "EBNH = E @ BN @ H\n",
    "print_matrix_info(EBNH)\n",
    "plot_matrix(EBNH);"
   ]
  },
  {
   "cell_type": "code",
   "execution_count": null,
   "metadata": {},
   "outputs": [],
   "source": [
    "numpy.linalg.cond(EBNH.todense())"
   ]
  },
  {
   "cell_type": "code",
   "execution_count": null,
   "metadata": {},
   "outputs": [],
   "source": [
    "Nmax = 3\n",
    "for N in range(1, Nmax + 1):\n",
    "    BN_test = pyibm.assemble_BN(gridx, gridy, dt=dt,\n",
    "                                N=N, L=L, MInv=MInv)\n",
    "    DBNG_test = D @ BN_test @ G\n",
    "    cond = numpy.linalg.cond(DBNG_test.todense())\n",
    "    print(N, cond)"
   ]
  },
  {
   "cell_type": "code",
   "execution_count": null,
   "metadata": {},
   "outputs": [],
   "source": [
    "Nmax = 3\n",
    "for N in range(1, Nmax + 1):\n",
    "    BN_test = pyibm.assemble_BN(gridx, gridy, dt=dt,\n",
    "                                N=N, L=L, MInv=MInv)\n",
    "    EBNH_test = E @ BN_test @ H\n",
    "    cond = numpy.linalg.cond(EBNH_test.todense())\n",
    "    print(N, cond)"
   ]
  },
  {
   "cell_type": "code",
   "execution_count": null,
   "metadata": {},
   "outputs": [],
   "source": [
    "for r in [1.0, 2.0, 4.0]:\n",
    "    ds = gridx.x.get_widths()[0] / r\n",
    "    Nb = int(round(2 * numpy.pi * radius / ds))\n",
    "    theta = numpy.linspace(0.0, 2 * numpy.pi, num=Nb + 1)[:-1]\n",
    "    x, y = xc + radius * numpy.cos(theta), yc + radius * numpy.sin(theta)\n",
    "    body_test = pyibm.Body(x, y, grid=gridc)\n",
    "    Op_test = pyibm.assemble_delta(body_test, gridc, gridx, gridy,\n",
    "                                   kernel=delta_kernel,\n",
    "                                   kernel_size=delta_kernel_size)\n",
    "    S_test = pyibm.assemble_surfaces(body_test)\n",
    "    E_test = Op_test @ R @ MHat\n",
    "    H_test = Op_test.T @ S_test\n",
    "    Nmax = 3\n",
    "    for N in range(1, Nmax + 1):\n",
    "        BN_test = pyibm.assemble_BN(gridx, gridy, dt=dt,\n",
    "                                    N=N, L=L, MInv=MInv)\n",
    "        EBNH_test = E_test @ BN_test @ H_test\n",
    "        cond = numpy.linalg.cond(EBNH_test.todense())\n",
    "        print(r, N, cond)"
   ]
  },
  {
   "cell_type": "code",
   "execution_count": null,
   "metadata": {},
   "outputs": [],
   "source": []
  }
 ],
 "metadata": {
  "kernelspec": {
   "display_name": "Python 3 (PyIBM)",
   "language": "python",
   "name": "py36-pyibm-dev"
  },
  "language_info": {
   "codemirror_mode": {
    "name": "ipython",
    "version": 3
   },
   "file_extension": ".py",
   "mimetype": "text/x-python",
   "name": "python",
   "nbconvert_exporter": "python",
   "pygments_lexer": "ipython3",
   "version": "3.6.8"
  }
 },
 "nbformat": 4,
 "nbformat_minor": 2
}
